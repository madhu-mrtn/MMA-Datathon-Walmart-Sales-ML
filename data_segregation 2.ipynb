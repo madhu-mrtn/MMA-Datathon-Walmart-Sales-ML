{
 "cells": [
  {
   "cell_type": "code",
   "execution_count": 1,
   "id": "e611c019-0ef1-4372-b110-1ee19f616a37",
   "metadata": {},
   "outputs": [],
   "source": [
    "import pandas as pd"
   ]
  },
  {
   "cell_type": "code",
   "execution_count": 2,
   "id": "b91cfe19-4999-4945-b76f-d0a748c2ed18",
   "metadata": {},
   "outputs": [],
   "source": [
    "mma_mart = pd.read_csv('mma_mart.csv')"
   ]
  },
  {
   "cell_type": "code",
   "execution_count": 3,
   "id": "e54c31af-fd58-4bcf-9df1-5b3bfd2e4319",
   "metadata": {},
   "outputs": [
    {
     "data": {
      "text/html": [
       "<div>\n",
       "<style scoped>\n",
       "    .dataframe tbody tr th:only-of-type {\n",
       "        vertical-align: middle;\n",
       "    }\n",
       "\n",
       "    .dataframe tbody tr th {\n",
       "        vertical-align: top;\n",
       "    }\n",
       "\n",
       "    .dataframe thead th {\n",
       "        text-align: right;\n",
       "    }\n",
       "</style>\n",
       "<table border=\"1\" class=\"dataframe\">\n",
       "  <thead>\n",
       "    <tr style=\"text-align: right;\">\n",
       "      <th></th>\n",
       "      <th>order_id</th>\n",
       "      <th>product_id</th>\n",
       "      <th>product_name</th>\n",
       "      <th>aisle_id</th>\n",
       "      <th>aisle</th>\n",
       "      <th>department_id</th>\n",
       "      <th>department</th>\n",
       "    </tr>\n",
       "  </thead>\n",
       "  <tbody>\n",
       "    <tr>\n",
       "      <th>0</th>\n",
       "      <td>1</td>\n",
       "      <td>49302</td>\n",
       "      <td>Bulgarian Yogurt</td>\n",
       "      <td>120</td>\n",
       "      <td>yogurt</td>\n",
       "      <td>16</td>\n",
       "      <td>dairy eggs</td>\n",
       "    </tr>\n",
       "    <tr>\n",
       "      <th>1</th>\n",
       "      <td>1</td>\n",
       "      <td>11109</td>\n",
       "      <td>Organic 4% Milk Fat Whole Milk Cottage Cheese</td>\n",
       "      <td>108</td>\n",
       "      <td>other creams cheeses</td>\n",
       "      <td>16</td>\n",
       "      <td>dairy eggs</td>\n",
       "    </tr>\n",
       "    <tr>\n",
       "      <th>2</th>\n",
       "      <td>1</td>\n",
       "      <td>10246</td>\n",
       "      <td>Organic Celery Hearts</td>\n",
       "      <td>83</td>\n",
       "      <td>fresh vegetables</td>\n",
       "      <td>4</td>\n",
       "      <td>produce</td>\n",
       "    </tr>\n",
       "    <tr>\n",
       "      <th>3</th>\n",
       "      <td>1</td>\n",
       "      <td>49683</td>\n",
       "      <td>Cucumber Kirby</td>\n",
       "      <td>83</td>\n",
       "      <td>fresh vegetables</td>\n",
       "      <td>4</td>\n",
       "      <td>produce</td>\n",
       "    </tr>\n",
       "    <tr>\n",
       "      <th>4</th>\n",
       "      <td>1</td>\n",
       "      <td>43633</td>\n",
       "      <td>Lightly Smoked Sardines in Olive Oil</td>\n",
       "      <td>95</td>\n",
       "      <td>canned meat seafood</td>\n",
       "      <td>15</td>\n",
       "      <td>canned goods</td>\n",
       "    </tr>\n",
       "  </tbody>\n",
       "</table>\n",
       "</div>"
      ],
      "text/plain": [
       "   order_id  product_id                                   product_name  \\\n",
       "0         1       49302                               Bulgarian Yogurt   \n",
       "1         1       11109  Organic 4% Milk Fat Whole Milk Cottage Cheese   \n",
       "2         1       10246                          Organic Celery Hearts   \n",
       "3         1       49683                                 Cucumber Kirby   \n",
       "4         1       43633           Lightly Smoked Sardines in Olive Oil   \n",
       "\n",
       "   aisle_id                 aisle  department_id    department  \n",
       "0       120                yogurt             16    dairy eggs  \n",
       "1       108  other creams cheeses             16    dairy eggs  \n",
       "2        83      fresh vegetables              4       produce  \n",
       "3        83      fresh vegetables              4       produce  \n",
       "4        95   canned meat seafood             15  canned goods  "
      ]
     },
     "execution_count": 3,
     "metadata": {},
     "output_type": "execute_result"
    }
   ],
   "source": [
    "mma_mart.head()"
   ]
  },
  {
   "cell_type": "code",
   "execution_count": 4,
   "id": "20c1f86e-ae17-4234-808d-b95b2e43b7f3",
   "metadata": {},
   "outputs": [
    {
     "data": {
      "text/plain": [
       "(987259, 7)"
      ]
     },
     "execution_count": 4,
     "metadata": {},
     "output_type": "execute_result"
    }
   ],
   "source": [
    "mma_mart.shape"
   ]
  },
  {
   "cell_type": "code",
   "execution_count": 5,
   "id": "129e11c3-91cf-4c3b-a080-8727d5488c95",
   "metadata": {},
   "outputs": [
    {
     "data": {
      "text/plain": [
       "array(['dairy eggs', 'produce', 'canned goods', 'pantry', 'meat seafood',\n",
       "       'bakery', 'personal care', 'snacks', 'breakfast', 'beverages',\n",
       "       'deli', 'household', 'international', 'dry goods pasta', 'frozen',\n",
       "       'babies', 'pets', 'alcohol', 'bulk', 'missing', 'other'],\n",
       "      dtype=object)"
      ]
     },
     "execution_count": 5,
     "metadata": {},
     "output_type": "execute_result"
    }
   ],
   "source": [
    "mma_mart['department'].unique()"
   ]
  },
  {
   "cell_type": "code",
   "execution_count": 6,
   "id": "69118f6b-ea8b-4eb8-bc5b-d20ddf17bdde",
   "metadata": {},
   "outputs": [
    {
     "data": {
      "text/plain": [
       "array(['yogurt', 'other creams cheeses', 'fresh vegetables',\n",
       "       'canned meat seafood', 'fresh fruits', 'packaged cheese', 'eggs',\n",
       "       'spices seasonings', 'oils vinegars', 'baking ingredients',\n",
       "       'doughs gelatins bake mixes', 'spreads',\n",
       "       'packaged vegetables fruits', 'soy lactosefree', 'poultry counter',\n",
       "       'bread', 'breakfast bakery', 'cold flu allergy',\n",
       "       'energy granola bars', 'breakfast bars pastries', 'chips pretzels',\n",
       "       'trail mix snack mix', 'crackers', 'refrigerated',\n",
       "       'energy sports drinks', 'salad dressing toppings',\n",
       "       'prepared soups salads', 'milk', 'paper goods',\n",
       "       'water seltzer sparkling water', 'kosher foods',\n",
       "       'packaged poultry', 'instant foods', 'packaged produce',\n",
       "       'cookies cakes', 'candy chocolate', 'body lotions soap',\n",
       "       'dry pasta', 'laundry', 'air fresheners candles', 'frozen produce',\n",
       "       'buns rolls', 'canned fruit applesauce', 'juice nectars',\n",
       "       'granola', 'fresh herbs', 'baby food formula',\n",
       "       'canned meals beans', 'cream', 'meat counter', 'frozen meals',\n",
       "       'fresh dips tapenades', 'soup broth bouillon',\n",
       "       'frozen meat seafood', 'frozen appetizers sides', 'dog food care',\n",
       "       'beers coolers', 'preserved dips spreads', 'spirits',\n",
       "       'soft drinks', 'coffee', 'frozen breakfast', 'cereal',\n",
       "       'frozen breads doughs', 'asian foods', 'soap', 'popcorn jerky',\n",
       "       'bulk dried fruits vegetables', 'butter', 'condiments',\n",
       "       'nuts seeds dried fruit', 'hot dogs bacon sausage',\n",
       "       'prepared meals', 'tofu meat alternatives', 'lunch meat',\n",
       "       'food storage', 'frozen vegan vegetarian', 'oral hygiene',\n",
       "       'ice cream ice', 'frozen pizza', 'canned jarred vegetables',\n",
       "       'pasta sauce', 'tea', 'grains rice dried goods',\n",
       "       'refrigerated pudding desserts', 'bakery desserts',\n",
       "       'specialty cheeses', 'mint gum', 'trash bags liners',\n",
       "       'honeys syrups nectars', 'muscles joints pain relief',\n",
       "       'tortillas flat bread', 'fruit vegetable snacks',\n",
       "       'plates bowls cups flatware', 'marinades meat preparation',\n",
       "       'kitchen supplies', 'frozen dessert', 'more household',\n",
       "       'hair care', 'seafood counter', 'frozen juice', 'beauty',\n",
       "       'bulk grains rice dried goods', 'missing', 'pickled goods olives',\n",
       "       'other', 'cleaning products', 'ice cream toppings', 'fresh pasta',\n",
       "       'dish detergents', 'latino foods', 'deodorants',\n",
       "       'packaged seafood', 'facial care', 'baby bath body care',\n",
       "       'feminine care', 'vitamins supplements', 'digestion',\n",
       "       'cat food care', 'protein meal replacements',\n",
       "       'hot cereal pancake mixes', 'baking supplies decor', 'shave needs',\n",
       "       'red wines', 'packaged meat', 'baby accessories',\n",
       "       'cocoa drink mixes', 'indian foods', 'diapers wipes', 'first aid',\n",
       "       'white wines', 'eye ear care', 'skin care',\n",
       "       'specialty wines champagnes'], dtype=object)"
      ]
     },
     "execution_count": 6,
     "metadata": {},
     "output_type": "execute_result"
    }
   ],
   "source": [
    "mma_mart['aisle'].unique()"
   ]
  },
  {
   "cell_type": "code",
   "execution_count": 7,
   "id": "d659eac4-a885-49a8-93de-50715cdaec2a",
   "metadata": {},
   "outputs": [],
   "source": [
    "# Define department keywords\n",
    "refrigerated_departments = ['dairy eggs', 'deli', 'meat seafood']\n",
    "frozen_departments = ['frozen']"
   ]
  },
  {
   "cell_type": "code",
   "execution_count": 8,
   "id": "314f409e-6a85-4eaf-bc5c-ee8a2ac383e3",
   "metadata": {},
   "outputs": [],
   "source": [
    "# Filter data based on departments\n",
    "ref_data = mma_mart[mma_mart['department'].isin(refrigerated_departments)]\n",
    "frozen_data = mma_mart[mma_mart['department'].isin(frozen_departments)]\n",
    "other_data = mma_mart[~mma_mart['department'].isin(refrigerated_departments + frozen_departments)]\n"
   ]
  },
  {
   "cell_type": "code",
   "execution_count": 9,
   "id": "48470afd-c680-45ab-bd77-c0b236ada70e",
   "metadata": {},
   "outputs": [
    {
     "name": "stdout",
     "output_type": "stream",
     "text": [
      "Aisles in ref data: ['yogurt' 'other creams cheeses' 'packaged cheese' 'eggs'\n",
      " 'soy lactosefree' 'poultry counter' 'prepared soups salads' 'milk'\n",
      " 'packaged poultry' 'cream' 'meat counter' 'fresh dips tapenades' 'butter'\n",
      " 'hot dogs bacon sausage' 'prepared meals' 'tofu meat alternatives'\n",
      " 'lunch meat' 'refrigerated pudding desserts' 'specialty cheeses'\n",
      " 'seafood counter' 'packaged seafood' 'packaged meat']\n",
      "Aisles in frozen data: ['frozen produce' 'frozen meals' 'frozen meat seafood'\n",
      " 'frozen appetizers sides' 'frozen breakfast' 'frozen breads doughs'\n",
      " 'frozen vegan vegetarian' 'ice cream ice' 'frozen pizza' 'frozen dessert'\n",
      " 'frozen juice']\n",
      "Aisles in other data: ['fresh vegetables' 'canned meat seafood' 'fresh fruits'\n",
      " 'spices seasonings' 'oils vinegars' 'baking ingredients'\n",
      " 'doughs gelatins bake mixes' 'spreads' 'packaged vegetables fruits'\n",
      " 'bread' 'breakfast bakery' 'cold flu allergy' 'energy granola bars'\n",
      " 'breakfast bars pastries' 'chips pretzels' 'trail mix snack mix'\n",
      " 'crackers' 'refrigerated' 'energy sports drinks'\n",
      " 'salad dressing toppings' 'paper goods' 'water seltzer sparkling water'\n",
      " 'kosher foods' 'instant foods' 'packaged produce' 'cookies cakes'\n",
      " 'candy chocolate' 'body lotions soap' 'dry pasta' 'laundry'\n",
      " 'air fresheners candles' 'buns rolls' 'canned fruit applesauce'\n",
      " 'juice nectars' 'granola' 'fresh herbs' 'baby food formula'\n",
      " 'canned meals beans' 'soup broth bouillon' 'dog food care'\n",
      " 'beers coolers' 'preserved dips spreads' 'spirits' 'soft drinks' 'coffee'\n",
      " 'cereal' 'asian foods' 'soap' 'popcorn jerky'\n",
      " 'bulk dried fruits vegetables' 'condiments' 'nuts seeds dried fruit'\n",
      " 'food storage' 'oral hygiene' 'canned jarred vegetables' 'pasta sauce'\n",
      " 'tea' 'grains rice dried goods' 'bakery desserts' 'mint gum'\n",
      " 'trash bags liners' 'honeys syrups nectars' 'muscles joints pain relief'\n",
      " 'tortillas flat bread' 'fruit vegetable snacks'\n",
      " 'plates bowls cups flatware' 'marinades meat preparation'\n",
      " 'kitchen supplies' 'more household' 'hair care' 'beauty'\n",
      " 'bulk grains rice dried goods' 'missing' 'pickled goods olives' 'other'\n",
      " 'cleaning products' 'ice cream toppings' 'fresh pasta' 'dish detergents'\n",
      " 'latino foods' 'deodorants' 'facial care' 'baby bath body care'\n",
      " 'feminine care' 'vitamins supplements' 'digestion' 'cat food care'\n",
      " 'protein meal replacements' 'hot cereal pancake mixes'\n",
      " 'baking supplies decor' 'shave needs' 'red wines' 'baby accessories'\n",
      " 'cocoa drink mixes' 'indian foods' 'diapers wipes' 'first aid'\n",
      " 'white wines' 'eye ear care' 'skin care' 'specialty wines champagnes']\n"
     ]
    }
   ],
   "source": [
    "print(f\"Aisles in ref data: {ref_data['aisle'].unique()}\")\n",
    "print(f\"Aisles in frozen data: {frozen_data['aisle'].unique()}\")\n",
    "print(f\"Aisles in other data: {other_data['aisle'].unique()}\")"
   ]
  },
  {
   "cell_type": "code",
   "execution_count": 10,
   "id": "2f6d1076-1bf5-4f86-923f-46e367576f5c",
   "metadata": {},
   "outputs": [
    {
     "name": "stdout",
     "output_type": "stream",
     "text": [
      "department in ref data: ['dairy eggs' 'meat seafood' 'deli']\n",
      "department in frozen data: ['frozen']\n"
     ]
    }
   ],
   "source": [
    "print(f\"department in ref data: {ref_data['department'].unique()}\")\n",
    "print(f\"department in frozen data: {frozen_data['department'].unique()}\")\n"
   ]
  },
  {
   "cell_type": "code",
   "execution_count": 11,
   "id": "e93cf8a5-d515-4f85-aad1-ba5ce895274a",
   "metadata": {},
   "outputs": [],
   "source": [
    "# Define aisle and product keywords\n",
    "refrigerated_aisles_keywords = ['fresh', 'meat', 'seafood', 'coolers', 'soft drinks', 'soft drink', 'beer']\n",
    "frozen_aisles_keywords = ['frozen']"
   ]
  },
  {
   "cell_type": "code",
   "execution_count": 12,
   "id": "6263d555-57b8-4f52-bff3-b42afcff6a26",
   "metadata": {},
   "outputs": [],
   "source": [
    "# Filter data based on refrigerated aisles\n",
    "for keyword in refrigerated_aisles_keywords:\n",
    "    ref_data = pd.concat([ref_data, other_data[other_data['aisle'].str.contains(keyword)]])\n",
    "    other_data = other_data[~other_data['aisle'].str.contains(keyword)]\n",
    "\n",
    "# Filter data based on frozen aisles\n",
    "for keyword in frozen_aisles_keywords:\n",
    "    frozen_data = pd.concat([frozen_data, other_data[other_data['aisle'].str.contains(keyword)]])\n",
    "    other_data = other_data[~other_data['aisle'].str.contains(keyword)]"
   ]
  },
  {
   "cell_type": "code",
   "execution_count": 13,
   "id": "d033a79f-0dd8-4ad3-a1c0-43d76306a2ed",
   "metadata": {},
   "outputs": [
    {
     "name": "stdout",
     "output_type": "stream",
     "text": [
      "department in ref data: ['dairy eggs' 'meat seafood' 'deli' 'produce' 'household'\n",
      " 'dry goods pasta' 'canned goods' 'pantry' 'alcohol' 'beverages']\n",
      "department in frozen data: ['frozen']\n"
     ]
    }
   ],
   "source": [
    "print(f\"department in ref data: {ref_data['department'].unique()}\")\n",
    "print(f\"department in frozen data: {frozen_data['department'].unique()}\")\n"
   ]
  },
  {
   "cell_type": "code",
   "execution_count": 14,
   "id": "cd069ef9-b9e4-4ce9-baca-36a688386580",
   "metadata": {},
   "outputs": [
    {
     "name": "stdout",
     "output_type": "stream",
     "text": [
      "Aisles in ref data: ['yogurt' 'other creams cheeses' 'packaged cheese' 'eggs'\n",
      " 'soy lactosefree' 'poultry counter' 'prepared soups salads' 'milk'\n",
      " 'packaged poultry' 'cream' 'meat counter' 'fresh dips tapenades' 'butter'\n",
      " 'hot dogs bacon sausage' 'prepared meals' 'tofu meat alternatives'\n",
      " 'lunch meat' 'refrigerated pudding desserts' 'specialty cheeses'\n",
      " 'seafood counter' 'packaged seafood' 'packaged meat' 'fresh vegetables'\n",
      " 'fresh fruits' 'air fresheners candles' 'fresh herbs' 'fresh pasta'\n",
      " 'canned meat seafood' 'marinades meat preparation' 'beers coolers'\n",
      " 'soft drinks']\n",
      "Aisles in frozen data: ['frozen produce' 'frozen meals' 'frozen meat seafood'\n",
      " 'frozen appetizers sides' 'frozen breakfast' 'frozen breads doughs'\n",
      " 'frozen vegan vegetarian' 'ice cream ice' 'frozen pizza' 'frozen dessert'\n",
      " 'frozen juice']\n"
     ]
    }
   ],
   "source": [
    "print(f\"Aisles in ref data: {ref_data['aisle'].unique()}\")\n",
    "print(f\"Aisles in frozen data: {frozen_data['aisle'].unique()}\")\n"
   ]
  },
  {
   "cell_type": "code",
   "execution_count": 15,
   "id": "fc69cc6a-593e-4cbc-a0bc-375a0f203aef",
   "metadata": {},
   "outputs": [],
   "source": [
    "# List of aisles to be removed from ref_data and added to other_data\n",
    "aisles_to_move_to_other = ['air fresheners candles', 'marinades meat preparation']\n",
    "\n",
    "# Filter data from ref_data based on aisles_to_move_to_other\n",
    "removed_data = ref_data[ref_data['aisle'].isin(aisles_to_move_to_other)]\n",
    "\n",
    "# Update ref_data to exclude the removed data\n",
    "ref_data = ref_data[~ref_data['aisle'].isin(aisles_to_move_to_other)]\n",
    "\n",
    "# Concatenate the removed data to other_data\n",
    "other_data = pd.concat([other_data, removed_data])"
   ]
  },
  {
   "cell_type": "code",
   "execution_count": 16,
   "id": "fb50f469-f6da-45b0-a3c2-a8b6f13d9349",
   "metadata": {},
   "outputs": [
    {
     "name": "stdout",
     "output_type": "stream",
     "text": [
      "Aisles in ref data: ['yogurt' 'other creams cheeses' 'packaged cheese' 'eggs'\n",
      " 'soy lactosefree' 'poultry counter' 'prepared soups salads' 'milk'\n",
      " 'packaged poultry' 'cream' 'meat counter' 'fresh dips tapenades' 'butter'\n",
      " 'hot dogs bacon sausage' 'prepared meals' 'tofu meat alternatives'\n",
      " 'lunch meat' 'refrigerated pudding desserts' 'specialty cheeses'\n",
      " 'seafood counter' 'packaged seafood' 'packaged meat' 'fresh vegetables'\n",
      " 'fresh fruits' 'fresh herbs' 'fresh pasta' 'canned meat seafood'\n",
      " 'beers coolers' 'soft drinks']\n",
      "Aisles in frozen data: ['frozen produce' 'frozen meals' 'frozen meat seafood'\n",
      " 'frozen appetizers sides' 'frozen breakfast' 'frozen breads doughs'\n",
      " 'frozen vegan vegetarian' 'ice cream ice' 'frozen pizza' 'frozen dessert'\n",
      " 'frozen juice']\n"
     ]
    }
   ],
   "source": [
    "print(f\"Aisles in ref data: {ref_data['aisle'].unique()}\")\n",
    "print(f\"Aisles in frozen data: {frozen_data['aisle'].unique()}\")"
   ]
  },
  {
   "cell_type": "code",
   "execution_count": 17,
   "id": "7a0d2fb4-e0b8-4959-9d5a-a86bca082ffa",
   "metadata": {},
   "outputs": [
    {
     "name": "stdout",
     "output_type": "stream",
     "text": [
      "Unique product names have been saved to 'unique_product_names.txt'\n"
     ]
    }
   ],
   "source": [
    "# Get the unique values of the 'product_name' column\n",
    "unique_product_names = other_data['product_name'].unique()\n",
    "\n",
    "# Save the unique values to a text file with 'utf-8' encoding\n",
    "with open('unique_product_names.txt', 'w', encoding='utf-8') as file:\n",
    "    for name in unique_product_names:\n",
    "        file.write(name + '\\n')\n",
    "\n",
    "# Print a message indicating where the file is saved\n",
    "print(\"Unique product names have been saved to 'unique_product_names.txt'\")"
   ]
  },
  {
   "cell_type": "code",
   "execution_count": 18,
   "id": "19496e28-4f83-4c7c-a8da-795b65b3d4de",
   "metadata": {},
   "outputs": [],
   "source": [
    "# Reset index for the resulting dataframes\n",
    "ref_data.reset_index(drop=True, inplace=True)\n",
    "frozen_data.reset_index(drop=True, inplace=True)\n",
    "other_data.reset_index(drop=True, inplace=True)"
   ]
  },
  {
   "cell_type": "code",
   "execution_count": 19,
   "id": "dce41fdf-86b2-4e16-a818-9d660143186e",
   "metadata": {},
   "outputs": [],
   "source": [
    "# Save 'frozen_df' as a CSV file\n",
    "frozen_data.to_csv('frozen_df.csv', index=False)\n",
    "\n",
    "# Save 'refrigerated_df' as a CSV file\n",
    "ref_data.to_csv('refrigerated_df.csv', index=False)\n",
    "\n",
    "# Save 'other_df' as a CSV file\n",
    "other_data.to_csv('other_df.csv', index=False)"
   ]
  },
  {
   "cell_type": "code",
   "execution_count": 20,
   "id": "ad5f41c3-42a1-45e6-97f7-d99defbb3890",
   "metadata": {},
   "outputs": [
    {
     "name": "stdout",
     "output_type": "stream",
     "text": [
      "Aisles in ref data: ['yogurt' 'other creams cheeses' 'packaged cheese' 'eggs'\n",
      " 'soy lactosefree' 'poultry counter' 'prepared soups salads' 'milk'\n",
      " 'packaged poultry' 'cream' 'meat counter' 'fresh dips tapenades' 'butter'\n",
      " 'hot dogs bacon sausage' 'prepared meals' 'tofu meat alternatives'\n",
      " 'lunch meat' 'refrigerated pudding desserts' 'specialty cheeses'\n",
      " 'seafood counter' 'packaged seafood' 'packaged meat' 'fresh vegetables'\n",
      " 'fresh fruits' 'fresh herbs' 'fresh pasta' 'canned meat seafood'\n",
      " 'beers coolers' 'soft drinks']\n",
      "Aisles in frozen data: ['frozen produce' 'frozen meals' 'frozen meat seafood'\n",
      " 'frozen appetizers sides' 'frozen breakfast' 'frozen breads doughs'\n",
      " 'frozen vegan vegetarian' 'ice cream ice' 'frozen pizza' 'frozen dessert'\n",
      " 'frozen juice']\n"
     ]
    }
   ],
   "source": [
    "print(f\"Aisles in ref data: {ref_data['aisle'].unique()}\")\n",
    "print(f\"Aisles in frozen data: {frozen_data['aisle'].unique()}\")\n"
   ]
  },
  {
   "cell_type": "code",
   "execution_count": 21,
   "id": "7d4aa85e-ec8d-4335-bbf9-ae48d117d3a0",
   "metadata": {},
   "outputs": [],
   "source": [
    "produce_data = ref_data[ref_data['department']=='produce']\n",
    "produce_products = produce_data['product_name'].unique()"
   ]
  },
  {
   "cell_type": "code",
   "execution_count": 22,
   "id": "04fff48d-21a1-405b-b50d-b939ec808a34",
   "metadata": {},
   "outputs": [
    {
     "data": {
      "text/plain": [
       "883"
      ]
     },
     "execution_count": 22,
     "metadata": {},
     "output_type": "execute_result"
    }
   ],
   "source": [
    "len(produce_products)"
   ]
  },
  {
   "cell_type": "code",
   "execution_count": 23,
   "id": "42ddb1d3-6383-4efc-99ba-a71cf7390602",
   "metadata": {},
   "outputs": [
    {
     "data": {
      "text/html": [
       "<div>\n",
       "<style scoped>\n",
       "    .dataframe tbody tr th:only-of-type {\n",
       "        vertical-align: middle;\n",
       "    }\n",
       "\n",
       "    .dataframe tbody tr th {\n",
       "        vertical-align: top;\n",
       "    }\n",
       "\n",
       "    .dataframe thead th {\n",
       "        text-align: right;\n",
       "    }\n",
       "</style>\n",
       "<table border=\"1\" class=\"dataframe\">\n",
       "  <thead>\n",
       "    <tr style=\"text-align: right;\">\n",
       "      <th></th>\n",
       "      <th>order_id</th>\n",
       "      <th>product_id</th>\n",
       "      <th>product_name</th>\n",
       "      <th>aisle_id</th>\n",
       "      <th>aisle</th>\n",
       "      <th>department_id</th>\n",
       "      <th>department</th>\n",
       "    </tr>\n",
       "  </thead>\n",
       "  <tbody>\n",
       "    <tr>\n",
       "      <th>218064</th>\n",
       "      <td>1</td>\n",
       "      <td>10246</td>\n",
       "      <td>Organic Celery Hearts</td>\n",
       "      <td>83</td>\n",
       "      <td>fresh vegetables</td>\n",
       "      <td>4</td>\n",
       "      <td>produce</td>\n",
       "    </tr>\n",
       "    <tr>\n",
       "      <th>218065</th>\n",
       "      <td>1</td>\n",
       "      <td>49683</td>\n",
       "      <td>Cucumber Kirby</td>\n",
       "      <td>83</td>\n",
       "      <td>fresh vegetables</td>\n",
       "      <td>4</td>\n",
       "      <td>produce</td>\n",
       "    </tr>\n",
       "    <tr>\n",
       "      <th>218066</th>\n",
       "      <td>1</td>\n",
       "      <td>13176</td>\n",
       "      <td>Bag of Organic Bananas</td>\n",
       "      <td>24</td>\n",
       "      <td>fresh fruits</td>\n",
       "      <td>4</td>\n",
       "      <td>produce</td>\n",
       "    </tr>\n",
       "    <tr>\n",
       "      <th>218067</th>\n",
       "      <td>1</td>\n",
       "      <td>47209</td>\n",
       "      <td>Organic Hass Avocado</td>\n",
       "      <td>24</td>\n",
       "      <td>fresh fruits</td>\n",
       "      <td>4</td>\n",
       "      <td>produce</td>\n",
       "    </tr>\n",
       "    <tr>\n",
       "      <th>218068</th>\n",
       "      <td>2</td>\n",
       "      <td>28985</td>\n",
       "      <td>Michigan Organic Kale</td>\n",
       "      <td>83</td>\n",
       "      <td>fresh vegetables</td>\n",
       "      <td>4</td>\n",
       "      <td>produce</td>\n",
       "    </tr>\n",
       "  </tbody>\n",
       "</table>\n",
       "</div>"
      ],
      "text/plain": [
       "        order_id  product_id            product_name  aisle_id  \\\n",
       "218064         1       10246   Organic Celery Hearts        83   \n",
       "218065         1       49683          Cucumber Kirby        83   \n",
       "218066         1       13176  Bag of Organic Bananas        24   \n",
       "218067         1       47209    Organic Hass Avocado        24   \n",
       "218068         2       28985   Michigan Organic Kale        83   \n",
       "\n",
       "                   aisle  department_id department  \n",
       "218064  fresh vegetables              4    produce  \n",
       "218065  fresh vegetables              4    produce  \n",
       "218066      fresh fruits              4    produce  \n",
       "218067      fresh fruits              4    produce  \n",
       "218068  fresh vegetables              4    produce  "
      ]
     },
     "execution_count": 23,
     "metadata": {},
     "output_type": "execute_result"
    }
   ],
   "source": [
    "produce_data.head()"
   ]
  },
  {
   "cell_type": "code",
   "execution_count": null,
   "id": "8a9bfec2-b4b8-473a-932b-4cf5f7ddf6fa",
   "metadata": {},
   "outputs": [],
   "source": []
  }
 ],
 "metadata": {
  "kernelspec": {
   "display_name": "Python 3 (ipykernel)",
   "language": "python",
   "name": "python3"
  },
  "language_info": {
   "codemirror_mode": {
    "name": "ipython",
    "version": 3
   },
   "file_extension": ".py",
   "mimetype": "text/x-python",
   "name": "python",
   "nbconvert_exporter": "python",
   "pygments_lexer": "ipython3",
   "version": "3.11.5"
  }
 },
 "nbformat": 4,
 "nbformat_minor": 5
}
