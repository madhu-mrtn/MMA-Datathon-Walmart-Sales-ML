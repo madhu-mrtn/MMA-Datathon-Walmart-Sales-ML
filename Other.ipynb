{
 "cells": [
  {
   "cell_type": "code",
   "execution_count": null,
   "id": "322ee0cf-6f13-49d2-ba5c-82a26ec974ab",
   "metadata": {},
   "outputs": [],
   "source": [
    "import pandas as pd\n",
    "import numpy as np\n",
    "import matplotlib.pyplot as plt\n",
    "%matplotlib inline\n",
    "from sklearn.model_selection import train_test_split\n",
    "import seaborn as sns\n",
    "from scipy.cluster.hierarchy import dendrogram, linkage\n",
    "import plotly.figure_factory as ff\n",
    "import networkx as nx\n",
    "import plotly.express as px\n",
    "import matplotlib.patches as mpatches\n",
    "from sklearn.feature_extraction.text import TfidfVectorizer\n",
    "from sklearn.metrics.pairwise import cosine_similarity\n",
    "from sklearn.metrics.pairwise import linear_kernel\n",
    "import Levenshtein"
   ]
  },
  {
   "cell_type": "code",
   "execution_count": null,
   "id": "34ae21e7-b228-4f38-b628-e2b7c9213ca9",
   "metadata": {},
   "outputs": [],
   "source": [
    "data = pd.read_csv('new_other_df.csv')\n",
    "data.head()"
   ]
  },
  {
   "cell_type": "code",
   "execution_count": null,
   "id": "d9f819e0-b38e-4b93-bd74-3357b0101700",
   "metadata": {},
   "outputs": [],
   "source": [
    "data['department'].unique()"
   ]
  },
  {
   "cell_type": "code",
   "execution_count": null,
   "id": "42333892-566c-4b6b-98f4-c3680e8cc5ad",
   "metadata": {},
   "outputs": [],
   "source": [
    "# Get unique order IDs\n",
    "unique_order_ids = data['order_id'].unique()\n",
    "\n",
    "# Calculate the index to split the data (70% training, 30% testing)\n",
    "split_index = int(0.7 * len(unique_order_ids))\n",
    "\n",
    "# Randomly shuffle the unique order IDs\n",
    "np.random.seed(42)  # Set a seed for reproducibility\n",
    "np.random.shuffle(unique_order_ids)\n",
    "\n",
    "# Split the unique order IDs into training and testing sets\n",
    "train_order_ids = unique_order_ids[:split_index]\n",
    "test_order_ids = unique_order_ids[split_index:]\n",
    "\n",
    "# Create training and testing DataFrames based on the selected order IDs\n",
    "train_other_df = data[data['order_id'].isin(train_order_ids)]\n",
    "test_other_df = data[data['order_id'].isin(test_order_ids)]"
   ]
  },
  {
   "cell_type": "code",
   "execution_count": null,
   "id": "122c093c-2db2-4b3e-9280-4d3af9632361",
   "metadata": {},
   "outputs": [],
   "source": [
    "train_other_df.to_csv('train_other_df.csv', index=False)\n",
    "test_other_df.to_csv('test_other_df.csv', index=False)"
   ]
  },
  {
   "cell_type": "code",
   "execution_count": null,
   "id": "54bf0da2-3e96-4b67-b644-c5edc647e904",
   "metadata": {},
   "outputs": [],
   "source": [
    "df = train_other_df\n",
    "df.head()"
   ]
  },
  {
   "cell_type": "markdown",
   "id": "19e00954-05a3-4e87-985c-3989a1aeb6e2",
   "metadata": {},
   "source": [
    "### PLOTS"
   ]
  },
  {
   "cell_type": "code",
   "execution_count": null,
   "id": "971d7aa3-fbb6-4087-af0e-603b296ba9fe",
   "metadata": {},
   "outputs": [],
   "source": [
    "# Get unique departments\n",
    "unique_departments = df['department'].unique()\n",
    "\n",
    "# Iterate through each department\n",
    "for department in unique_departments:\n",
    "    # Filter the DataFrame for the current department\n",
    "    department_df = df[df['department'] == department]\n",
    "\n",
    "    # Get unique aisles and products within the department\n",
    "    unique_aisles = department_df['aisle'].unique()\n",
    "    unique_products = department_df['product_name'].unique()\n",
    "\n",
    "    # Create a sunburst chart for the current department\n",
    "    fig = px.sunburst(department_df, path=['aisle', 'product_name'])\n",
    "\n",
    "    # Customize the layout\n",
    "    fig.update_layout(\n",
    "        title=f\"Sunburst Chart for Department: {department}\",\n",
    "        margin=dict(l=0, r=0, b=0, t=30),\n",
    "        paper_bgcolor=\"white\",\n",
    "        height=600,  # Adjust the height\n",
    "        width=800,   # Adjust the width\n",
    "    )\n",
    "\n",
    "    # Show the chart\n",
    "    fig.show()"
   ]
  },
  {
   "cell_type": "code",
   "execution_count": null,
   "id": "472c73c1-24bd-4038-8e43-e40433aedb90",
   "metadata": {},
   "outputs": [],
   "source": [
    "# Calculate total sales for each department-aisle combination\n",
    "department_aisle_sales = df.groupby(['department', 'aisle'])['order_id'].nunique().reset_index()\n",
    "department_aisle_sales.columns = ['department', 'aisle', 'total_sales']\n",
    "\n",
    "# Sort department-aisle combinations by total sales in descending order\n",
    "department_aisle_sales = department_aisle_sales.sort_values(by='total_sales', ascending=False)\n",
    "\n",
    "# Create a horizontal bar graph\n",
    "plt.figure(figsize=(10, 6))\n",
    "plt.barh(department_aisle_sales['department'] + ' - ' + department_aisle_sales['aisle'],\n",
    "         department_aisle_sales['total_sales'],\n",
    "         color='skyblue')\n",
    "plt.xlabel('Total Sales')\n",
    "plt.ylabel('Department - Aisle')\n",
    "plt.title('Sales by Department-Aisle Combinations')\n",
    "plt.gca().invert_yaxis()  # Reverse the y-axis to display the highest sales at the top\n",
    "plt.tight_layout()\n",
    "plt.show()"
   ]
  },
  {
   "cell_type": "code",
   "execution_count": null,
   "id": "96796b40-15f6-4d45-88ff-d193ba4ed33a",
   "metadata": {},
   "outputs": [],
   "source": [
    "# Group by department and aisle, then count unique products\n",
    "unique_products_per_combination = df.groupby(['department', 'aisle'])['product_id'].nunique().reset_index()\n",
    "unique_products_per_combination.columns = ['department', 'aisle', 'total_products']\n",
    "unique_products_per_combination = unique_products_per_combination.sort_values(by='total_products', ascending=False)\n",
    "\n",
    "# Create a bar plot to visualize the data\n",
    "plt.figure(figsize=(12, 6))\n",
    "plt.barh(\n",
    "    unique_products_per_combination['department'] + ' - ' + unique_products_per_combination['aisle'],\n",
    "    unique_products_per_combination['total_products'],\n",
    ")\n",
    "plt.xlabel('Number of Unique Products')\n",
    "plt.ylabel('Department - Aisle Combination')\n",
    "plt.title('Number of Unique Products per Department-Aisle Combination')\n",
    "plt.gca().invert_yaxis()\n",
    "plt.xticks(rotation=45)\n",
    "plt.tight_layout()\n",
    "\n",
    "# Show the plot\n",
    "plt.show()"
   ]
  },
  {
   "cell_type": "code",
   "execution_count": null,
   "id": "955ab591-f4e0-4f75-b444-f569a1d1d114",
   "metadata": {},
   "outputs": [],
   "source": [
    "# Group by department, aisle, and product name and count unique order_ids for each combination\n",
    "product_sales = df.groupby(['department', 'aisle', 'product_name'])['order_id'].nunique().reset_index()\n",
    "\n",
    "# Sort the products by sales in descending order and get the top 100\n",
    "top_100_products = product_sales.sort_values(by='order_id', ascending=False).head(100)\n",
    "\n",
    "# Create a unique color for each department-aisle combination\n",
    "unique_combinations = top_100_products[['department', 'aisle']].drop_duplicates()\n",
    "color_palette = sns.color_palette(\"hsv\", len(unique_combinations))\n",
    "\n",
    "# Create a mapping of department-aisle combinations to colors\n",
    "color_mapping = dict(zip(zip(unique_combinations['department'], unique_combinations['aisle']), color_palette))\n",
    "\n",
    "# Map each product's department-aisle combination to its color\n",
    "top_100_products['color'] = top_100_products.apply(lambda row: color_mapping[(row['department'], row['aisle'])], axis=1)\n",
    "\n",
    "# Create a bar plot to visualize the top 100 products with color-coded department-aisle combinations\n",
    "plt.figure(figsize=(12, 18))\n",
    "ax = sns.barplot(\n",
    "    x='order_id',\n",
    "    y='product_name',\n",
    "    data=top_100_products,\n",
    "    palette=top_100_products['color'],\n",
    ")\n",
    "plt.xlabel('Number of Unique Orders (Sales)')\n",
    "plt.ylabel('Product Name')\n",
    "plt.title('Top 100 Products by Sales with Associated Department-Aisle Combination (Color Coded by Department-Aisle)')\n",
    "plt.xticks(rotation=0)\n",
    "plt.tight_layout()\n",
    "\n",
    "# Create a legend for department-aisle combinations\n",
    "legend_labels = []\n",
    "for key, value in color_mapping.items():\n",
    "    label = f\"{key[0]} - {key[1]}\"\n",
    "    legend_labels.append(mpatches.Patch(color=value, label=label))\n",
    "\n",
    "# Add a legend to the plot\n",
    "plt.legend(handles=legend_labels, title='Department - Aisle', bbox_to_anchor=(1.05, 1), loc='upper left')\n",
    "plt.show()\n"
   ]
  },
  {
   "cell_type": "code",
   "execution_count": null,
   "id": "c9b2a5a2-7cfd-4f9c-8a07-d58255b243a7",
   "metadata": {},
   "outputs": [],
   "source": [
    "# Group by department and aisle to calculate total unique products and total sales\n",
    "department_aisle_stats = df.groupby(['department', 'aisle'])[['product_id', 'order_id']].nunique().reset_index()\n",
    "\n",
    "# Calculate the average per product cost\n",
    "department_aisle_stats['avg_per_product_sales'] = department_aisle_stats['order_id'] / department_aisle_stats['product_id']\n",
    "\n",
    "# Sort the department-aisle combinations by average per product cost in descending order\n",
    "department_aisle_stats = department_aisle_stats.sort_values(by='avg_per_product_sales', ascending=False)\n",
    "\n",
    "# Create a bar plot with a single color for all department-aisle combinations\n",
    "plt.figure(figsize=(12, 8))\n",
    "plt.barh(\n",
    "    department_aisle_stats['department'] + ' - ' + department_aisle_stats['aisle'],\n",
    "    department_aisle_stats['avg_per_product_sales'],\n",
    "    color='skyblue',  # Specify a single color\n",
    ")\n",
    "\n",
    "plt.xlabel('Average Per Product Sales')\n",
    "plt.ylabel('Department - Aisle Combination')\n",
    "plt.title('Average Per Product Sales by Department-Aisle Combination (Sorted by Sales)')\n",
    "plt.gca().invert_yaxis()\n",
    "plt.xticks(rotation=45)\n",
    "plt.tight_layout()\n",
    "\n",
    "# Show the plot\n",
    "plt.show()\n"
   ]
  },
  {
   "cell_type": "markdown",
   "id": "f384be53-a038-43d5-b6e8-425d4b5a83ba",
   "metadata": {
    "jp-MarkdownHeadingCollapsed": true
   },
   "source": [
    "### METHOD 1: Selection based on Pure total sales of each product"
   ]
  },
  {
   "cell_type": "code",
   "execution_count": null,
   "id": "b30bcd62-c841-4d9f-bef5-887068b9ad77",
   "metadata": {},
   "outputs": [],
   "source": [
    "# Group by product and count unique order_ids for each product\n",
    "product_sales = df.groupby('product_name')['order_id'].nunique().reset_index()\n",
    "\n",
    "# Sort the products by sales in descending order and get the top 9800\n",
    "top_9800_products = product_sales.sort_values(by='order_id', ascending=False).head(9800)\n",
    "\n",
    "# Merge with the original DataFrame to get the additional information\n",
    "top_9800_products = top_9800_products.merge(\n",
    "    df[['product_name', 'product_id', 'aisle_id', 'department_id']].drop_duplicates(),\n",
    "    on='product_name',\n",
    "    how='left'\n",
    ")\n",
    "top_9800_products = top_9800_products.drop(columns=['order_id'])\n",
    "top_9800_products.head()"
   ]
  },
  {
   "cell_type": "code",
   "execution_count": null,
   "id": "afbe96c8-1bd4-4bd4-8fe9-8997a25e75d3",
   "metadata": {},
   "outputs": [],
   "source": [
    "top_9800_products.shape"
   ]
  },
  {
   "cell_type": "code",
   "execution_count": null,
   "id": "22f21efc-eed4-4afe-8787-c1cdfb11827c",
   "metadata": {},
   "outputs": [],
   "source": [
    "selected_data = top_9800_products"
   ]
  },
  {
   "cell_type": "code",
   "execution_count": null,
   "id": "df0d2017-71e4-465e-9b24-fa8be7daceb5",
   "metadata": {},
   "outputs": [],
   "source": [
    "test_df = pd.read_csv('test_other_df.csv')"
   ]
  },
  {
   "cell_type": "markdown",
   "id": "f3833d93-358a-4ac8-8b4e-4cf636defef5",
   "metadata": {},
   "source": [
    "#### Metric Calculation without accounting for substitutes for METHOD 1"
   ]
  },
  {
   "cell_type": "code",
   "execution_count": null,
   "id": "b75930f8-314a-40c2-8059-a57ba0e41350",
   "metadata": {},
   "outputs": [],
   "source": [
    "# calculate total unique orders in the test data\n",
    "tot_order = test_df['order_id'].nunique()\n",
    "print(f\"Total number of orders: {tot_order}\")"
   ]
  },
  {
   "cell_type": "code",
   "execution_count": null,
   "id": "b26d1322-47f2-4bd3-980b-1bb8fbb90309",
   "metadata": {},
   "outputs": [],
   "source": [
    "# calculate the average number of items in each order\n",
    "avg_item = len(test_df) / tot_order\n",
    "print(f\"Average number of items in each order: {avg_item}\")"
   ]
  },
  {
   "cell_type": "code",
   "execution_count": null,
   "id": "05c23de1-65a0-470c-9d9e-79cff2229d7c",
   "metadata": {},
   "outputs": [],
   "source": [
    "# join the test data with my pick on 'product_id'\n",
    "test_selected_products = test_df.merge(selected_data, on='product_id', how='left')\n",
    "\n",
    "# group by 'order_id' and count the non-null values of 'product_name_y' column\n",
    "metrics_tmp = test_selected_products[['order_id', 'product_name_y']].groupby('order_id').count().reset_index().rename(columns={'product_name_y': \"num_prod_matching\"})\n",
    "metrics_tmp.head()"
   ]
  },
  {
   "cell_type": "code",
   "execution_count": null,
   "id": "bd7fa005-db2c-42e0-9071-7693e8908595",
   "metadata": {},
   "outputs": [],
   "source": [
    "# calculate metric 1\n",
    "# count orders with at least a match\n",
    "metric_1 = len(metrics_tmp[metrics_tmp['num_prod_matching']>0])\n",
    "print(f\"Out of {tot_order} orders, {metric_1} of them utilize the in-aisle items. That's about {metric_1/tot_order*100:.2f}%.\")"
   ]
  },
  {
   "cell_type": "code",
   "execution_count": null,
   "id": "b757198c-6199-41fb-a539-eb3b13408038",
   "metadata": {},
   "outputs": [],
   "source": [
    "# calculate metric 2\n",
    "metric_2 = metrics_tmp['num_prod_matching'].sum() / len(metrics_tmp)\n",
    "print(f\"On average there are {avg_item:.2f} items in each order, and {metric_2:.2f} of them utilize in-aisle items. That's about {metric_2/avg_item*100:.2f}%\")"
   ]
  },
  {
   "cell_type": "markdown",
   "id": "d792f720-13f3-4ec5-b83e-3ce271a9550b",
   "metadata": {},
   "source": [
    "#### Metric Calculation accounting for substitutes for METHOD 1"
   ]
  },
  {
   "cell_type": "code",
   "execution_count": null,
   "id": "c5c747e7-c2e7-456d-9fff-e516843120f1",
   "metadata": {},
   "outputs": [],
   "source": [
    "selected_products=selected_data['product_name'].unique()\n",
    "# Get unique product names from the entire dataset\n",
    "unique_product_names = test_df['product_name'].unique()\n",
    "\n",
    "# Vectorize the unique product names and selected products\n",
    "tfidf_vectorizer = TfidfVectorizer()\n",
    "product_name_matrix = tfidf_vectorizer.fit_transform(unique_product_names)\n",
    "selected_products_matrix = tfidf_vectorizer.transform(selected_products)\n",
    "\n",
    "# Calculate the cosine similarity matrix between unique product names and selected products\n",
    "similarity_matrix = cosine_similarity(product_name_matrix, selected_products_matrix)\n",
    "\n",
    "# Create a dictionary to store num_prod_match for each order_id\n",
    "order_id_dict = {}\n",
    "similarity_threshold = 0.5\n",
    "order_ids_checked = 0\n",
    "\n",
    "# Iterate through unique order IDs in test_df\n",
    "unique_order_ids = test_df['order_id'].unique()\n",
    "for order_id in unique_order_ids:\n",
    "    order_products = test_df[test_df['order_id'] == order_id]['product_name']\n",
    "    num_prod_match = 0\n",
    "    \n",
    "    for product_name in order_products:\n",
    "        product_index = np.where(unique_product_names == product_name)[0][0]  # Find the index of the current product\n",
    "        similarities = similarity_matrix[product_index]  # Get similarities for the current product\n",
    "        \n",
    "        # Check if any similarity is above the threshold\n",
    "        if any(similarities >= similarity_threshold):\n",
    "            num_prod_match += 1\n",
    "    \n",
    "    order_id_dict[order_id] = num_prod_match\n",
    "    order_ids_checked += 1\n",
    "    #print(f\"Progress: {((order_ids_checked) / len(unique_order_ids)) * 100}%\")"
   ]
  },
  {
   "cell_type": "code",
   "execution_count": null,
   "id": "790f2f56-3e6e-424c-af1d-f2c90c9a4d69",
   "metadata": {},
   "outputs": [],
   "source": [
    "result_df = pd.DataFrame(order_id_dict.items(), columns=['order_id', 'num_prod_match'])\n",
    "result_df.head()"
   ]
  },
  {
   "cell_type": "code",
   "execution_count": null,
   "id": "e3786ff8-ffbe-42ce-8ed9-d42a54dbb1c3",
   "metadata": {},
   "outputs": [],
   "source": [
    "result_df.shape"
   ]
  },
  {
   "cell_type": "code",
   "execution_count": null,
   "id": "78d163e5-4a6e-4164-8ab4-7459b72b29d7",
   "metadata": {},
   "outputs": [],
   "source": [
    "# calculate metric 1\n",
    "# count orders with at least a match\n",
    "metric_sub_1 = len(result_df[result_df['num_prod_match']>0])\n",
    "print(f\"Out of {tot_order} orders, {metric_sub_1} of them utilize the in-aisle items. That's about {metric_sub_1/tot_order*100:.2f}%.\")"
   ]
  },
  {
   "cell_type": "code",
   "execution_count": null,
   "id": "cd4c567e-51ed-4892-8b62-5a72f114d5a9",
   "metadata": {},
   "outputs": [],
   "source": [
    "# calcualte metric 2\n",
    "metric_sub_2 = result_df['num_prod_match'].sum() / len(result_df)\n",
    "print(f\"On average there are {avg_item:.2f} items in each order, and {metric_sub_2:.2f} of them utilize in-aisle items. That's about {metric_sub_2/avg_item*100:.2f}%\")"
   ]
  },
  {
   "cell_type": "code",
   "execution_count": null,
   "id": "62286faf-8f09-40ea-a4e7-f2e79e198697",
   "metadata": {},
   "outputs": [],
   "source": [
    "file_path = 'results_other.txt'\n",
    "\n",
    "with open(file_path, 'a') as file:\n",
    "    file.write(f\"METHOD 1: Selection based on Pure total sales of each product\\n\")\n",
    "    file.write(f\"Metric Calculation without accounting for substitutes for METHOD 1\\n\")\n",
    "    file.write(f\"Out of {tot_order} orders, {metric_1} of them utilize the in-aisle items. That's about {metric_1/tot_order*100:.2f}%.\\n\")\n",
    "    file.write(f\"On average there are {avg_item:.2f} items in each order, and {metric_2:.2f} of them utilize in-aisle items. That's about {metric_2/avg_item*100:.2f}%\\n\")\n",
    "    file.write(f\"Metric Calculation accounting for substitutes for METHOD 1\\n\")\n",
    "    file.write(f\"Out of {tot_order} orders, {metric_sub_1} of them utilize the in-aisle items. That's about {metric_sub_1/tot_order*100:.2f}%.\\n\")\n",
    "    file.write(f\"On average there are {avg_item:.2f} items in each order, and {metric_sub_2:.2f} of them utilize in-aisle items. That's about {metric_sub_2/avg_item*100:.2f}%\\n\")\n",
    "    file.write(\"\\n\")"
   ]
  },
  {
   "cell_type": "markdown",
   "id": "9a9e1771-ed8f-4c6a-a5fc-e613d5119001",
   "metadata": {},
   "source": [
    "### METHOD 2: Selection based on weightage distribution by total sales per department-aisle"
   ]
  },
  {
   "cell_type": "markdown",
   "id": "0e94147a-d718-4b83-8b6f-414baa56a0a8",
   "metadata": {},
   "source": [
    "Find out the unique department-aisle combinations and the total sales (total order_id ) associated with it. Now the total order-id should not be just sum of unique order_id. Count all the order_ids, even uplicates associated with that deprtment-aisle combination. Make a plot to show the distribution of total sales of each department-aisle combination. \r\n",
    "Now, assign a number 'number of products to select' for each department-aisle combination based on the total sales from each department-aisle. Assign such that the total count of number of products selected (summed over all department-aisles) should be 100 and every department-aise should get atleast 1 product. \r\n",
    "Now start picking the products, from every deparment-aisle combination, unique products. Number of products to be selected from each department-aisle combination is specified by the column 'number of products to select'. However, the condition should be such that no 2 products selected overall should have similarity of more than 50%. Similarity should be calculated using NLP techniques.  After fulfuling the similarity crieteria, the selected products should be the ones with maximum total sales (maximum unique order_ids associated with them) amongst the eligible products."
   ]
  },
  {
   "cell_type": "code",
   "execution_count": null,
   "id": "f7b646ef-428d-4845-87dc-400255efb8b4",
   "metadata": {},
   "outputs": [],
   "source": [
    "# Function to calculate similrity\n",
    "def calculate_similarity(product_names):\n",
    "    tfidf_vectorizer = TfidfVectorizer()\n",
    "    tfidf_matrix = tfidf_vectorizer.fit_transform(product_names)\n",
    "    similarity_matrix = cosine_similarity(tfidf_matrix, tfidf_matrix)\n",
    "    return similarity_matrix"
   ]
  },
  {
   "cell_type": "code",
   "execution_count": null,
   "id": "5f362eb6-94c3-4ad3-bf59-51d38cfc3bcc",
   "metadata": {},
   "outputs": [],
   "source": [
    "df = train_other_df"
   ]
  },
  {
   "cell_type": "code",
   "execution_count": null,
   "id": "9c23eb52-800d-4d68-aea8-404c07af41d4",
   "metadata": {},
   "outputs": [],
   "source": [
    "# Step 1: Calculate total sales and total unique products for each unique aisle\n",
    "aisle_info = df.groupby(['aisle']).agg(\n",
    "    total_sales=('order_id', 'nunique'),\n",
    "    total_unique_products=('product_id', 'nunique')\n",
    ").reset_index()\n",
    "\n",
    "# Sort aisles by total sales in ascending order\n",
    "aisle_info = aisle_info.sort_values(by='total_sales', ascending=True)\n",
    "\n",
    "# Calculate the total number of products to select\n",
    "total_products_to_select = 9800\n",
    "\n",
    "# Create a table to store the data of aisle, number of unique products, and number of products to find\n",
    "aisle_data = []\n",
    "\n",
    "# Step 4: Loop through each aisle and assign the number of products to select\n",
    "for index, row in aisle_info.iterrows():\n",
    "    aisle = row['aisle']\n",
    "    total_sales = row['total_sales']\n",
    "    total_products = row['total_unique_products']\n",
    "    num_products_to_select = int((total_sales / aisle_info['total_sales'].sum()) * total_products_to_select)\n",
    "\n",
    "    # Ensure we don't exceed the available unique products in this aisle\n",
    "    num_products_to_select = min(num_products_to_select, total_products)\n",
    "\n",
    "    # Calculate unselected_products\n",
    "    unselected_products = total_products - num_products_to_select\n",
    "\n",
    "    # Create a row for the aisle_data table\n",
    "    aisle_row = {'aisle': aisle, 'total_unique_products': total_products, 'total_sales': total_sales,\n",
    "                 'number of products to select': num_products_to_select, 'unselected_products': unselected_products}\n",
    "    aisle_data.append(aisle_row)\n",
    "\n",
    "# Convert the aisle_data table to a DataFrame\n",
    "aisle_info = pd.DataFrame(aisle_data)\n",
    "\n",
    "products_left_to_find = total_products_to_select - aisle_info['number of products to select'].sum()\n",
    "\n",
    "# Create aisle_info_2 with aisles having unselected_products not equal to 0\n",
    "aisle_info_2 = aisle_info[aisle_info['unselected_products'] != 0]\n",
    "# Drop the 'total_unique_products' column\n",
    "aisle_info_2.drop(columns=['total_unique_products','number of products to select'], inplace=True)\n",
    "# Rename the 'unselected_products' column as 'total_unique_products'\n",
    "aisle_info_2.rename(columns={'unselected_products': 'total_unique_products'}, inplace=True)\n"
   ]
  },
  {
   "cell_type": "code",
   "execution_count": null,
   "id": "7fe66478-33b3-448b-a1de-ecc1d857a816",
   "metadata": {},
   "outputs": [],
   "source": [
    "aisle_info.head()"
   ]
  },
  {
   "cell_type": "code",
   "execution_count": null,
   "id": "f047d157-3ff4-4345-a067-53b791624b69",
   "metadata": {},
   "outputs": [],
   "source": [
    " aisle_info_2.head()"
   ]
  },
  {
   "cell_type": "code",
   "execution_count": null,
   "id": "874052ba-8efa-4cf0-98ca-cded37650458",
   "metadata": {},
   "outputs": [],
   "source": [
    "products_left_to_find"
   ]
  },
  {
   "cell_type": "code",
   "execution_count": null,
   "id": "7370d3ee-4b76-4983-98aa-1bd2890bf42e",
   "metadata": {},
   "outputs": [],
   "source": [
    "# Sort aisles by total sales in ascending order\n",
    "aisle_info_2 = aisle_info_2.sort_values(by='total_sales', ascending=True)\n",
    "\n",
    "# Calculate the total number of products to select\n",
    "total_products_to_select = products_left_to_find\n",
    "\n",
    "# Create a table to store the data of aisle, number of unique products, and number of products to find\n",
    "aisle_data_2 = []\n",
    "\n",
    "# Step 4: Loop through each aisle and assign the number of products to select\n",
    "for index, row in aisle_info_2.iterrows():\n",
    "    aisle = row['aisle']\n",
    "    total_sales = row['total_sales']\n",
    "    total_products = row['total_unique_products']\n",
    "    num_products_to_select = int((total_sales / aisle_info_2['total_sales'].sum()) * total_products_to_select)\n",
    "\n",
    "    # Ensure we don't exceed the available unique products in this aisle\n",
    "    num_products_to_select = min(num_products_to_select, total_products)\n",
    "\n",
    "    # Calculate unselected_products\n",
    "    unselected_products = max(0,total_products - num_products_to_select)\n",
    "\n",
    "    # Create a row for the aisle_data table\n",
    "    aisle_row = {'aisle': aisle, 'total_unique_products': total_products, 'total_sales': total_sales,\n",
    "                 'number of products to select': num_products_to_select, 'unselected_products': unselected_products}\n",
    "    aisle_data_2.append(aisle_row)\n",
    "\n",
    "# Convert the aisle_data table to a DataFrame\n",
    "aisle_info_2 = pd.DataFrame(aisle_data_2)\n",
    "\n",
    "products_left_to_find = total_products_to_select - aisle_info_2['number of products to select'].sum()\n",
    "\n"
   ]
  },
  {
   "cell_type": "code",
   "execution_count": null,
   "id": "49a182f3-bffe-4c2e-8bf8-d5e26b1c6cce",
   "metadata": {},
   "outputs": [],
   "source": [
    "products_left_to_find"
   ]
  },
  {
   "cell_type": "code",
   "execution_count": null,
   "id": "0f004357-03fc-4c49-aa34-442d7725b314",
   "metadata": {},
   "outputs": [],
   "source": [
    "aisle_info_2.head()"
   ]
  },
  {
   "cell_type": "code",
   "execution_count": null,
   "id": "fe2ddf1a-d0e9-466c-a105-9a1b02fe7a0d",
   "metadata": {},
   "outputs": [],
   "source": [
    "# Create aisle_info_2 with aisles having unselected_products not equal to 0\n",
    "aisle_info_3 = aisle_info_2[aisle_info_2['unselected_products'] != 0]\n",
    "# Drop the 'total_unique_products' column\n",
    "aisle_info_3.drop(columns=['total_unique_products','number of products to select'], inplace=True)\n",
    "# Rename the 'unselected_products' column as 'total_unique_products'\n",
    "aisle_info_3.rename(columns={'unselected_products': 'total_unique_products'}, inplace=True)"
   ]
  },
  {
   "cell_type": "code",
   "execution_count": null,
   "id": "004560ac-be3b-4e28-a74b-e6c4df13847b",
   "metadata": {},
   "outputs": [],
   "source": [
    "aisle_info_3.shape"
   ]
  },
  {
   "cell_type": "code",
   "execution_count": null,
   "id": "4ee366f1-0d39-4e5e-9919-07639c7de3e6",
   "metadata": {},
   "outputs": [],
   "source": [
    "df['aisle'].nunique()"
   ]
  },
  {
   "cell_type": "code",
   "execution_count": null,
   "id": "b85cafd6-8a00-454a-882a-bbd330747a8c",
   "metadata": {},
   "outputs": [],
   "source": [
    "# Create a list of unique aisles from both datasets\n",
    "unique_aisles = list(set(aisle_info['aisle']).union(set(aisle_info_2['aisle'])))\n",
    "\n",
    "# Initialize lists to store the columns\n",
    "aisles_column = []\n",
    "number_of_products_to_select_column = []\n",
    "unselected_products_column = []\n",
    "\n",
    "# Loop through unique aisles and calculate the columns\n",
    "for aisle in unique_aisles:\n",
    "    # Get the 'number of products to select' from both datasets and sum them\n",
    "    num_products_to_select = aisle_info[aisle_info['aisle'] == aisle]['number of products to select'].sum()\n",
    "    num_products_to_select += aisle_info_2[aisle_info_2['aisle'] == aisle]['number of products to select'].sum()\n",
    "\n",
    "    # Get the 'unselected_products' from aisle_info_2, or set to 0 if not present\n",
    "    unselected_products = aisle_info_2[aisle_info_2['aisle'] == aisle]['unselected_products'].sum()\n",
    "    \n",
    "    # Append values to respective columns\n",
    "    aisles_column.append(aisle)\n",
    "    number_of_products_to_select_column.append(num_products_to_select)\n",
    "    unselected_products_column.append(unselected_products)\n",
    "\n",
    "# Create a DataFrame with the calculated columns\n",
    "final_aisle_info = pd.DataFrame({\n",
    "    'aisle': aisles_column,\n",
    "    'number of products to select': number_of_products_to_select_column,\n",
    "    'unselected_products': unselected_products_column\n",
    "})\n",
    "final_aisle_info.head()\n"
   ]
  },
  {
   "cell_type": "code",
   "execution_count": null,
   "id": "06b7ff03-126a-44b4-9819-feac874aad31",
   "metadata": {},
   "outputs": [],
   "source": [
    "final_aisle_info = final_aisle_info.sort_values(by='unselected_products', ascending=True)\n",
    "final_aisle_info.head(10)"
   ]
  },
  {
   "cell_type": "code",
   "execution_count": null,
   "id": "217b2373-aff0-49cf-8bcb-737f68d7d741",
   "metadata": {},
   "outputs": [],
   "source": [
    "# Iterate through rows of final_aisle_info\n",
    "for index, row in final_aisle_info.iterrows():\n",
    "    # Check if 'unselected_products' is non-zero\n",
    "    if row['unselected_products'] > 0:\n",
    "        # Increment 'number of products to select' by 1\n",
    "        final_aisle_info.at[index, 'number of products to select'] += 1\n",
    "        # Decrement 'unselected_products' by 1\n",
    "        final_aisle_info.at[index, 'unselected_products'] -= 1\n",
    "\n",
    "products_left_to_select = 9800 - final_aisle_info['number of products to select'].sum()"
   ]
  },
  {
   "cell_type": "code",
   "execution_count": null,
   "id": "cf71fb82-a5d4-4ec4-893f-ebb596f7fe6b",
   "metadata": {},
   "outputs": [],
   "source": [
    "products_left_to_select"
   ]
  },
  {
   "cell_type": "code",
   "execution_count": null,
   "id": "b326720f-3f95-4ea6-b0ba-246b71dc34fd",
   "metadata": {},
   "outputs": [],
   "source": [
    "products_left_to_select = 9\n",
    "final_aisle_info = final_aisle_info.sort_values(by='unselected_products', ascending=True)\n",
    "for index, row in final_aisle_info.iterrows():\n",
    "    # Check if 'unselected_products' is non-zero\n",
    "    if row['unselected_products'] > 0:\n",
    "        # Increment 'number of products to select' by 1\n",
    "        final_aisle_info.at[index, 'number of products to select'] += 1\n",
    "        # Decrement 'unselected_products' by 1\n",
    "        final_aisle_info.at[index, 'unselected_products'] -= 1\n",
    "        products_left_to_select-=1\n",
    "        if products_left_to_select ==0:\n",
    "            break\n",
    "    "
   ]
  },
  {
   "cell_type": "code",
   "execution_count": null,
   "id": "dd0d15af-57a1-4822-89a9-c4acb73adffe",
   "metadata": {},
   "outputs": [],
   "source": [
    "products_left_to_select"
   ]
  },
  {
   "cell_type": "code",
   "execution_count": null,
   "id": "44ecd489-d1d4-4f9b-9b2a-5ca69e94a8b0",
   "metadata": {},
   "outputs": [],
   "source": [
    "final_aisle_info.head()"
   ]
  },
  {
   "cell_type": "code",
   "execution_count": null,
   "id": "202eb830-a23c-4ed7-bf94-8ac9b8b2bcf3",
   "metadata": {},
   "outputs": [],
   "source": [
    "# Find the aisle(s) with number of products to select equal to 0\n",
    "aisles_with_zero_products_to_select = final_aisle_info[final_aisle_info['number of products to select'] == 0]\n",
    "\n",
    "# Print the result\n",
    "print(\"Aisle(s) with number of products to select equal to 0:\")\n",
    "print(aisles_with_zero_products_to_select)"
   ]
  },
  {
   "cell_type": "code",
   "execution_count": null,
   "id": "42b7bef2-d9f6-4154-8884-ee4b189df280",
   "metadata": {},
   "outputs": [],
   "source": [
    "# Initialize a DataFrame to store selected products\n",
    "selected_products_df = pd.DataFrame(columns=df.columns)\n",
    "\n",
    "# Group by 'aisle' and 'product_name' to calculate total sales\n",
    "product_sales = df.groupby(['aisle', 'product_name'])['order_id'].nunique().reset_index()\n",
    "product_sales.rename(columns={'order_id': 'total_sales'}, inplace=True)\n",
    "\n",
    "# Sort products in each aisle by total sales in descending order\n",
    "sorted_products = product_sales.sort_values(by=['aisle', 'total_sales'], ascending=[True, False])\n",
    "\n",
    "# Iterate through each aisle and select the top-selling products\n",
    "for aisle, num_to_select in zip(final_aisle_info['aisle'], final_aisle_info['number of products to select']):\n",
    "    aisle_products = sorted_products[sorted_products['aisle'] == aisle].head(num_to_select)\n",
    "    selected_products_df = pd.concat([selected_products_df, df[df['product_name'].isin(aisle_products['product_name'])]])\n",
    "\n",
    "# Reset the index of the selected products DataFrame\n",
    "selected_products_df.reset_index(drop=True, inplace=True)\n",
    "\n",
    "# Create a DataFrame with the selected columns\n",
    "selected_data = selected_products_df[['product_name', 'product_id', 'aisle_id', 'department_id']]\n",
    "\n",
    "# Drop duplicate rows to keep only unique products\n",
    "selected_data.drop_duplicates(inplace=True)\n",
    "\n",
    "# Reset the index of the selected_data DataFrame\n",
    "selected_data.reset_index(drop=True, inplace=True)"
   ]
  },
  {
   "cell_type": "code",
   "execution_count": null,
   "id": "b25d68d9-ff8a-4094-afa6-a555152d8084",
   "metadata": {},
   "outputs": [],
   "source": [
    "selected_data.head()"
   ]
  },
  {
   "cell_type": "code",
   "execution_count": null,
   "id": "349bd45b-c70a-4fef-8cb9-05e1861d56cc",
   "metadata": {},
   "outputs": [],
   "source": [
    "test_df = pd.read_csv('test_other_df.csv')"
   ]
  },
  {
   "cell_type": "markdown",
   "id": "eebd286c-a2fa-40dc-b11d-f18bd8612be0",
   "metadata": {},
   "source": [
    "#### Metric Calculation without accounting for substitutes for METHOD 2"
   ]
  },
  {
   "cell_type": "code",
   "execution_count": null,
   "id": "0737cf47-c38c-4da4-9a55-54dd81c212cb",
   "metadata": {},
   "outputs": [],
   "source": [
    "# calculate total unique orders in the test data\n",
    "tot_order = test_df['order_id'].nunique()\n",
    "print(f\"Total number of orders: {tot_order}\")"
   ]
  },
  {
   "cell_type": "code",
   "execution_count": null,
   "id": "f6d12b8a-e48a-451a-b999-eb1240a05e3b",
   "metadata": {},
   "outputs": [],
   "source": [
    "# calculate the average number of items in each order\n",
    "avg_item = len(test_df) / tot_order\n",
    "print(f\"Average number of items in each order: {avg_item}\")"
   ]
  },
  {
   "cell_type": "code",
   "execution_count": null,
   "id": "07d6349c-4821-4ff2-ad7c-25c89bd780ff",
   "metadata": {},
   "outputs": [],
   "source": [
    "# join the test data with my pick on 'product_id'\n",
    "test_selected_data = test_df.merge(selected_data, on='product_id', how='left')\n",
    "\n",
    "# group by 'order_id' and count the non-null values of 'product_name_y' column\n",
    "metrics_tmp = test_selected_data[['order_id', 'product_name_y']].groupby('order_id').count().reset_index().rename(columns={'product_name_y': \"num_prod_matching\"})\n",
    "metrics_tmp.head()"
   ]
  },
  {
   "cell_type": "code",
   "execution_count": null,
   "id": "a7160b69-891b-498b-8d08-4da747842842",
   "metadata": {},
   "outputs": [],
   "source": [
    "# calculate metric 1\n",
    "# count orders with at least a match\n",
    "metric_1 = len(metrics_tmp[metrics_tmp['num_prod_matching']>0])\n",
    "print(f\"Out of {tot_order} orders, {metric_1} of them utilize the in-aisle items. That's about {metric_1/tot_order*100:.2f}%.\")"
   ]
  },
  {
   "cell_type": "code",
   "execution_count": null,
   "id": "51c7553d-48e8-4f4c-b1aa-0bbeb4d6b6f2",
   "metadata": {},
   "outputs": [],
   "source": [
    "# calculate metric 2\n",
    "metric_2 = metrics_tmp['num_prod_matching'].sum() / len(metrics_tmp)\n",
    "print(f\"On average there are {avg_item:.2f} items in each order, and {metric_2:.2f} of them utilize in-aisle items. That's about {metric_2/avg_item*100:.2f}%\")"
   ]
  },
  {
   "cell_type": "markdown",
   "id": "f6c36c2a-30b4-4808-9495-bb7ddea29ef4",
   "metadata": {},
   "source": [
    "#### Metric Calculation accounting for substitutes for METHOD 2"
   ]
  },
  {
   "cell_type": "code",
   "execution_count": null,
   "id": "7c414190-b2fb-445f-995c-9a2d5e69a50c",
   "metadata": {},
   "outputs": [],
   "source": [
    "selected_products=selected_data['product_name'].unique()\n",
    "# Get unique product names from the entire dataset\n",
    "unique_product_names = test_df['product_name'].unique()\n",
    "\n",
    "# Vectorize the unique product names and selected products\n",
    "tfidf_vectorizer = TfidfVectorizer()\n",
    "product_name_matrix = tfidf_vectorizer.fit_transform(unique_product_names)\n",
    "selected_products_matrix = tfidf_vectorizer.transform(selected_products)\n",
    "\n",
    "# Calculate the cosine similarity matrix between unique product names and selected products\n",
    "similarity_matrix = cosine_similarity(product_name_matrix, selected_products_matrix)\n",
    "\n",
    "# Create a dictionary to store num_prod_match for each order_id\n",
    "order_id_dict = {}\n",
    "similarity_threshold = 0.5\n",
    "order_ids_checked = 0\n",
    "\n",
    "# Iterate through unique order IDs in test_df\n",
    "unique_order_ids = test_df['order_id'].unique()\n",
    "for order_id in unique_order_ids:\n",
    "    order_products = test_df[test_df['order_id'] == order_id]['product_name']\n",
    "    num_prod_match = 0\n",
    "    \n",
    "    for product_name in order_products:\n",
    "        product_index = np.where(unique_product_names == product_name)[0][0]  # Find the index of the current product\n",
    "        similarities = similarity_matrix[product_index]  # Get similarities for the current product\n",
    "        \n",
    "        # Check if any similarity is above the threshold\n",
    "        if any(similarities >= similarity_threshold):\n",
    "            num_prod_match += 1\n",
    "    \n",
    "    order_id_dict[order_id] = num_prod_match\n",
    "    order_ids_checked += 1\n",
    "    print(f\"Progress: {((order_ids_checked) / len(unique_order_ids)) * 100}%\")"
   ]
  },
  {
   "cell_type": "code",
   "execution_count": null,
   "id": "0353a235-c290-48df-9cc0-2292fda4f2be",
   "metadata": {},
   "outputs": [],
   "source": [
    "result_df = pd.DataFrame(order_id_dict.items(), columns=['order_id', 'num_prod_match'])\n",
    "result_df.head()"
   ]
  },
  {
   "cell_type": "code",
   "execution_count": null,
   "id": "490d3040-ae1c-4d3c-813b-0f055fc235f6",
   "metadata": {},
   "outputs": [],
   "source": [
    "# calculate metric 1\n",
    "# count orders with at least a match\n",
    "metric_sub_1 = len(result_df[result_df['num_prod_match']>0])\n",
    "print(f\"Out of {tot_order} orders, {metric_sub_1} of them utilize the in-aisle items. That's about {metric_sub_1/tot_order*100:.2f}%.\")"
   ]
  },
  {
   "cell_type": "code",
   "execution_count": null,
   "id": "cf311a19-2e4f-4627-8ddc-86c6fa9cb267",
   "metadata": {},
   "outputs": [],
   "source": [
    "# calcualte metric 2\n",
    "metric_sub_2 = result_df['num_prod_match'].sum() / len(result_df)\n",
    "print(f\"On average there are {avg_item:.2f} items in each order, and {metric_sub_2:.2f} of them utilize in-aisle items. That's about {metric_sub_2/avg_item*100:.2f}%\")"
   ]
  },
  {
   "cell_type": "code",
   "execution_count": null,
   "id": "d869da7c-4ab3-4c9d-8a1c-6131f59e5d99",
   "metadata": {},
   "outputs": [],
   "source": [
    "# Save the selected_data DataFrame to a CSV file\n",
    "selected_data.to_csv('selected_products.csv', index=False)"
   ]
  },
  {
   "cell_type": "code",
   "execution_count": null,
   "id": "37e551cb-1032-43db-8fd3-768eb6eaca27",
   "metadata": {},
   "outputs": [],
   "source": [
    "selected_data.head()"
   ]
  },
  {
   "cell_type": "code",
   "execution_count": null,
   "id": "fe370e90-e1bf-475a-9857-f3a1de4e8293",
   "metadata": {},
   "outputs": [],
   "source": [
    "file_path = 'results_refrigerated.txt'\n",
    "\n",
    "with open(file_path, 'a') as file:\n",
    "    file.write(f\"METHOD 2: Selection based on Pure total sales of each product\\n\")\n",
    "    file.write(f\"Metric Calculation without accounting for substitutes for METHOD 2\\n\")\n",
    "    file.write(f\"Out of {tot_order} orders, {metric_1} of them utilize the in-aisle items. That's about {metric_1/tot_order*100:.2f}%.\\n\")\n",
    "    file.write(f\"On average there are {avg_item:.2f} items in each order, and {metric_2:.2f} of them utilize in-aisle items. That's about {metric_2/avg_item*100:.2f}%\\n\")\n",
    "    file.write(f\"Metric Calculation accounting for substitutes for METHOD 2\\n\")\n",
    "    file.write(f\"Out of {tot_order} orders, {metric_sub_1} of them utilize the in-aisle items. That's about {metric_sub_1/tot_order*100:.2f}%.\\n\")\n",
    "    file.write(f\"On average there are {avg_item:.2f} items in each order, and {metric_sub_2:.2f} of them utilize in-aisle items. That's about {metric_sub_2/avg_item*100:.2f}%\\n\")\n",
    "    file.write(\"\\n\")"
   ]
  },
  {
   "cell_type": "markdown",
   "id": "5f0ff55b-8889-4db8-a703-c9faf380143b",
   "metadata": {
    "jp-MarkdownHeadingCollapsed": true
   },
   "source": [
    "### METHOD 3: Selection based on weightage distribution by median per product sale per department-aisle keeping atleast one product each\n"
   ]
  },
  {
   "cell_type": "code",
   "execution_count": null,
   "id": "eeac3e15-27b2-449a-bbe7-9ee79774ff77",
   "metadata": {},
   "outputs": [],
   "source": [
    "# Function to calculate text similarity between product names using TF-IDF and cosine similarity\n",
    "def calculate_similarity(product_names):\n",
    "    tfidf_vectorizer = TfidfVectorizer()\n",
    "    tfidf_matrix = tfidf_vectorizer.fit_transform(product_names)\n",
    "    similarity_matrix = cosine_similarity(tfidf_matrix, tfidf_matrix)\n",
    "    return similarity_matrix"
   ]
  },
  {
   "cell_type": "code",
   "execution_count": null,
   "id": "e721b5e7-a473-4758-8231-80a7cda66fb3",
   "metadata": {},
   "outputs": [],
   "source": [
    "total_products_to_select=9800\n",
    "# Calculate total sales per unique product within each department-aisle combination\n",
    "product_sales = df.groupby(['department', 'aisle', 'product_name'])['order_id'].nunique().reset_index()\n",
    "\n",
    "# Calculate median per product sale within each department-aisle combination\n",
    "median_per_product_sale = product_sales.groupby(['department', 'aisle'])['order_id'].median().reset_index()\n",
    "\n",
    "# Assign a number of products to select initially as 1 for each unique department-aisle combination\n",
    "median_per_product_sale['number_of_products_to_select'] = 1\n",
    "\n",
    "# Calculate the total number of unique department-aisle combinations\n",
    "total_combinations = len(median_per_product_sale)\n",
    "\n",
    "# Calculate the number of products left to select\n",
    "left_products_to_select = total_products_to_select - total_combinations\n",
    "\n",
    "# Sort the combinations by median per product sale in descending order\n",
    "median_per_product_sale = median_per_product_sale.sort_values(by='order_id', ascending=False)\n",
    "\n",
    "# Distribute the remaining products based on median criterion\n",
    "i = 0\n",
    "while left_products_to_select > 0:\n",
    "    median_per_product_sale.at[i, 'number_of_products_to_select'] += 1\n",
    "    left_products_to_select -= 1\n",
    "    i = (i + 1) % total_combinations\n",
    "\n",
    "# Now the 'median_per_product_sale' DataFrame contains the desired 'number_of_products_to_select'\n"
   ]
  },
  {
   "cell_type": "code",
   "execution_count": null,
   "id": "0b6448e6-3a9e-41b0-be4e-f8a64610fe1a",
   "metadata": {},
   "outputs": [],
   "source": [
    "median_per_product_sale.head()"
   ]
  },
  {
   "cell_type": "code",
   "execution_count": null,
   "id": "401fb7a5-f1bd-4048-8dc0-a9129d62a14a",
   "metadata": {},
   "outputs": [],
   "source": [
    "median_per_product_sale['number_of_products_to_select'].sum()"
   ]
  },
  {
   "cell_type": "code",
   "execution_count": null,
   "id": "f055e93d-ae82-4a5e-a158-638f014e10ec",
   "metadata": {},
   "outputs": [],
   "source": [
    "# Initialize an empty DataFrame to store selected products\n",
    "selected_products = pd.DataFrame(columns=['product_name', 'department', 'aisle'])"
   ]
  },
  {
   "cell_type": "code",
   "execution_count": null,
   "id": "b6c5cb25-1aee-4d1b-af5c-eec4a9dd5ddb",
   "metadata": {},
   "outputs": [],
   "source": [
    "# Iterate through department-aisle combinations\n",
    "for _, row in median_per_product_sale.iterrows():\n",
    "    department = row['department']\n",
    "    aisle = row['aisle']\n",
    "    num_to_select = row['number_of_products_to_select']\n",
    "    \n",
    "    print(\"Working on department:\", department, \"aisle:\", aisle)\n",
    "    print(\"Number of products to select:\", num_to_select)\n",
    "    \n",
    "    # Filter products for the current department-aisle combination\n",
    "    products_subset = df[(df['department'] == department) & (df['aisle'] == aisle)]\n",
    "    \n",
    "    # Create a dataset with unique product names and their total sales\n",
    "    product_subset = products_subset.groupby('product_name')['order_id'].nunique().reset_index(name='total_sales')\n",
    "    \n",
    "    # Sort products_subset by total sales in descending order\n",
    "    product_subset = product_subset.sort_values(by='total_sales', ascending=False)\n",
    "    \n",
    "    # Initialize similarity threshold\n",
    "    similarity_threshold = 0.5\n",
    "    \n",
    "    # Initialize a variable to track the number of products selected for this combination\n",
    "    num_selected = 0\n",
    "    \n",
    "    # Initialize a list to store selected indices\n",
    "    selected_indices = []\n",
    "    \n",
    "    # Try different similarity thresholds until enough products are found\n",
    "    while num_selected < num_to_select and similarity_threshold >= 0:\n",
    "        print(\"Current similarity threshold:\", similarity_threshold)\n",
    "        \n",
    "        # Calculate text similarity between product names\n",
    "        similarity_matrix = calculate_similarity(product_subset['product_name'])\n",
    "        \n",
    "        # Find the indices of products that meet the similarity criteria\n",
    "        indices_to_add = [\n",
    "            i for i in range(similarity_matrix.shape[0])\n",
    "            if i not in selected_indices\n",
    "            and all(similarity_matrix[i, j] < similarity_threshold for j in selected_indices)\n",
    "            \n",
    "        ]\n",
    "        # Limit the selection to a maximum of num_to_select products\n",
    "        if len(indices_to_add) + num_selected > num_to_select:\n",
    "            indices_to_add = indices_to_add[:num_to_select - num_selected]\n",
    "        \n",
    "        # Update the selected indices and num_selected\n",
    "        selected_indices.extend(indices_to_add)\n",
    "        num_selected = len(selected_indices)\n",
    "        \n",
    "        # Decrease the similarity threshold\n",
    "        similarity_threshold -= 0.1\n",
    "        \n",
    "        print(\"Number of products selected so far:\", num_selected)\n",
    "    \n",
    "    if similarity_threshold < 0:\n",
    "        print(\"Not enough products found for department:\", department, \"aisle:\", aisle)\n",
    "    else:\n",
    "       # Get the selected product indices from product_subset\n",
    "        selected_product_indices = [selected_indices[i] for i in range(len(selected_indices)) if i < num_to_select]\n",
    "\n",
    "        # Create a DataFrame with the selected product indices\n",
    "        selected_products_subset = products_subset.iloc[selected_product_indices]\n",
    "\n",
    "        # Append the selected products to the final DataFrame\n",
    "        selected_products = pd.concat([selected_products, selected_products_subset])\n",
    "\n",
    "print(\"Number of total products selected:\", len(selected_products))\n",
    "\n"
   ]
  },
  {
   "cell_type": "code",
   "execution_count": null,
   "id": "f557eafb-d6b0-4695-8a7a-aa03ff2651d6",
   "metadata": {},
   "outputs": [],
   "source": [
    "selected_products.drop(columns=[\"aisle\", \"department\" ,\"order_id\"], axis=1, inplace=True)\n",
    "selected_products.head()"
   ]
  },
  {
   "cell_type": "code",
   "execution_count": null,
   "id": "4817333b-4b73-4ed3-bfd4-c9c24f230b1f",
   "metadata": {},
   "outputs": [],
   "source": [
    "selected_data = selected_products"
   ]
  },
  {
   "cell_type": "code",
   "execution_count": null,
   "id": "0a992e8a-33be-4e11-9da1-d010a228cc48",
   "metadata": {},
   "outputs": [],
   "source": [
    "test_df = pd.read_csv('test_other_df.csv')"
   ]
  },
  {
   "cell_type": "markdown",
   "id": "ced3728d-8692-4f66-b874-f6221ab733fe",
   "metadata": {},
   "source": [
    "#### Metric Calculation without accounting for substitutes for METHOD 3"
   ]
  },
  {
   "cell_type": "code",
   "execution_count": null,
   "id": "8e6ea212-a9b9-43a9-aa48-a0454f5f28af",
   "metadata": {},
   "outputs": [],
   "source": [
    "# calculate total unique orders in the test data\n",
    "tot_order = test_df['order_id'].nunique()\n",
    "print(f\"Total number of orders: {tot_order}\")"
   ]
  },
  {
   "cell_type": "code",
   "execution_count": null,
   "id": "a177b755-de07-4e09-8e3d-e5e066db2d97",
   "metadata": {},
   "outputs": [],
   "source": [
    "# calculate the average number of items in each order\n",
    "avg_item = len(test_df) / tot_order\n",
    "print(f\"Average number of items in each order: {avg_item}\")"
   ]
  },
  {
   "cell_type": "code",
   "execution_count": null,
   "id": "73d15a91-206f-4925-b46a-e62f029dfc60",
   "metadata": {},
   "outputs": [],
   "source": [
    "# join the test data with my pick on 'product_id'\n",
    "test_selected_data = test_df.merge(selected_data, on='product_id', how='left')\n",
    "\n",
    "# group by 'order_id' and count the non-null values of 'product_name_y' column\n",
    "metrics_tmp = test_selected_data[['order_id', 'product_name_y']].groupby('order_id').count().reset_index().rename(columns={'product_name_y': \"num_prod_matching\"})\n",
    "metrics_tmp.head()"
   ]
  },
  {
   "cell_type": "code",
   "execution_count": null,
   "id": "39e3461b-88c9-4a1d-9ffb-241c4c84084f",
   "metadata": {},
   "outputs": [],
   "source": [
    "# calculate metric 1\n",
    "# count orders with at least a match\n",
    "metric_1 = len(metrics_tmp[metrics_tmp['num_prod_matching']>0])\n",
    "print(f\"Out of {tot_order} orders, {metric_1} of them utilize the in-aisle items. That's about {metric_1/tot_order*100:.2f}%.\")"
   ]
  },
  {
   "cell_type": "code",
   "execution_count": null,
   "id": "4fc0a442-aebb-4e6c-83bd-9e307516cfec",
   "metadata": {},
   "outputs": [],
   "source": [
    "# calculate metric 2\n",
    "metric_2 = metrics_tmp['num_prod_matching'].sum() / len(metrics_tmp)\n",
    "print(f\"On average there are {avg_item:.2f} items in each order, and {metric_2:.2f} of them utilize in-aisle items. That's about {metric_2/avg_item*100:.2f}%\")"
   ]
  },
  {
   "cell_type": "markdown",
   "id": "0ff230db-d62a-49f2-9fb4-6c9f94c427cf",
   "metadata": {},
   "source": [
    "#### Metric Calculation accounting for substitutes for METHOD 3"
   ]
  },
  {
   "cell_type": "code",
   "execution_count": null,
   "id": "0f9cec13-2fea-46fa-bc69-1d4f2940c772",
   "metadata": {},
   "outputs": [],
   "source": [
    "selected_products=selected_data['product_name'].unique()\n",
    "# Get unique product names from the entire dataset\n",
    "unique_product_names = test_df['product_name'].unique()\n",
    "\n",
    "# Vectorize the unique product names and selected products\n",
    "tfidf_vectorizer = TfidfVectorizer()\n",
    "product_name_matrix = tfidf_vectorizer.fit_transform(unique_product_names)\n",
    "selected_products_matrix = tfidf_vectorizer.transform(selected_products)\n",
    "\n",
    "# Calculate the cosine similarity matrix between unique product names and selected products\n",
    "similarity_matrix = cosine_similarity(product_name_matrix, selected_products_matrix)\n",
    "\n",
    "# Create a dictionary to store num_prod_match for each order_id\n",
    "order_id_dict = {}\n",
    "similarity_threshold = 0.5\n",
    "order_ids_checked = 0\n",
    "\n",
    "# Iterate through unique order IDs in test_df\n",
    "unique_order_ids = test_df['order_id'].unique()\n",
    "for order_id in unique_order_ids:\n",
    "    order_products = test_df[test_df['order_id'] == order_id]['product_name']\n",
    "    num_prod_match = 0\n",
    "    \n",
    "    for product_name in order_products:\n",
    "        product_index = np.where(unique_product_names == product_name)[0][0]  # Find the index of the current product\n",
    "        similarities = similarity_matrix[product_index]  # Get similarities for the current product\n",
    "        \n",
    "        # Check if any similarity is above the threshold\n",
    "        if any(similarities >= similarity_threshold):\n",
    "            num_prod_match += 1\n",
    "    \n",
    "    order_id_dict[order_id] = num_prod_match\n",
    "    order_ids_checked += 1\n",
    "    print(f\"Progress: {((order_ids_checked) / len(unique_order_ids)) * 100}%\")"
   ]
  },
  {
   "cell_type": "code",
   "execution_count": null,
   "id": "bfaf12ce-1601-409b-8f7f-d3131d21c105",
   "metadata": {},
   "outputs": [],
   "source": [
    "result_df = pd.DataFrame(order_id_dict.items(), columns=['order_id', 'num_prod_match'])\n",
    "result_df.head()"
   ]
  },
  {
   "cell_type": "code",
   "execution_count": null,
   "id": "40e29593-2dbf-4f20-a6c1-5a67faad8238",
   "metadata": {},
   "outputs": [],
   "source": [
    "# calculate metric 1\n",
    "# count orders with at least a match\n",
    "metric_sub_1 = len(result_df[result_df['num_prod_match']>0])\n",
    "print(f\"Out of {tot_order} orders, {metric_sub_1} of them utilize the in-aisle items. That's about {metric_sub_1/tot_order*100:.2f}%.\")"
   ]
  },
  {
   "cell_type": "code",
   "execution_count": null,
   "id": "31e997fd-e939-4385-ab10-8e7c0d53cbb5",
   "metadata": {},
   "outputs": [],
   "source": [
    "# calcualte metric 2\n",
    "metric_sub_2 = result_df['num_prod_match'].sum() / len(result_df)\n",
    "print(f\"On average there are {avg_item:.2f} items in each order, and {metric_sub_2:.2f} of them utilize in-aisle items. That's about {metric_sub_2/avg_item*100:.2f}%\")"
   ]
  },
  {
   "cell_type": "code",
   "execution_count": null,
   "id": "040e90df-6acf-4324-9288-75d2a968f0b4",
   "metadata": {},
   "outputs": [],
   "source": [
    "file_path = 'results_refrigerated.txt'\n",
    "\n",
    "with open(file_path, 'a') as file:\n",
    "    file.write(f\"METHOD 3: Selection based on Pure total sales of each product\\n\")\n",
    "    file.write(f\"Metric Calculation without accounting for substitutes for METHOD 3\\n\")\n",
    "    file.write(f\"Out of {tot_order} orders, {metric_1} of them utilize the in-aisle items. That's about {metric_1/tot_order*100:.2f}%.\\n\")\n",
    "    file.write(f\"On average there are {avg_item:.2f} items in each order, and {metric_2:.2f} of them utilize in-aisle items. That's about {metric_2/avg_item*100:.2f}%\\n\")\n",
    "    file.write(f\"Metric Calculation accounting for substitutes for METHOD 3\\n\")\n",
    "    file.write(f\"Out of {tot_order} orders, {metric_sub_1} of them utilize the in-aisle items. That's about {metric_sub_1/tot_order*100:.2f}%.\\n\")\n",
    "    file.write(f\"On average there are {avg_item:.2f} items in each order, and {metric_sub_2:.2f} of them utilize in-aisle items. That's about {metric_sub_2/avg_item*100:.2f}%\\n\")\n",
    "    file.write(\"\\n\")"
   ]
  },
  {
   "cell_type": "markdown",
   "id": "4ab3c4a3-7753-4cc4-9e27-d8d9faaee1d6",
   "metadata": {
    "jp-MarkdownHeadingCollapsed": true
   },
   "source": [
    "### METHOD 4: Selection based on weightage distribution by median per product sale per department-aisle with no extra condition"
   ]
  },
  {
   "cell_type": "code",
   "execution_count": null,
   "id": "23721e82-f2db-4787-980c-7f2587ccc56d",
   "metadata": {},
   "outputs": [],
   "source": [
    "# Function to calculate text similarity between product names using TF-IDF and cosine similarity\n",
    "def calculate_similarity(product_names):\n",
    "    tfidf_vectorizer = TfidfVectorizer()\n",
    "    tfidf_matrix = tfidf_vectorizer.fit_transform(product_names)\n",
    "    similarity_matrix = cosine_similarity(tfidf_matrix, tfidf_matrix)\n",
    "    return similarity_matrix"
   ]
  },
  {
   "cell_type": "code",
   "execution_count": null,
   "id": "74007ef5-ca1f-4ba8-9545-983afcb15b3b",
   "metadata": {},
   "outputs": [],
   "source": [
    "total_products_to_select=9800\n",
    "# Calculate total sales per unique product within each department-aisle combination\n",
    "product_sales = df.groupby(['department', 'aisle', 'product_name'])['order_id'].nunique().reset_index()\n",
    "\n",
    "# Calculate median per product sale within each department-aisle combination\n",
    "median_per_product_sale = product_sales.groupby(['department', 'aisle'])['order_id'].median().reset_index()\n",
    "\n",
    "# Assign a number of products to select initially as 1 for each unique department-aisle combination\n",
    "median_per_product_sale['number_of_products_to_select'] = 0\n",
    "\n",
    "# Calculate the total number of unique department-aisle combinations\n",
    "total_combinations = len(median_per_product_sale)\n",
    "\n",
    "# Calculate the number of products left to select\n",
    "left_products_to_select = total_products_to_select - total_combinations\n",
    "\n",
    "# Sort the combinations by median per product sale in descending order\n",
    "median_per_product_sale = median_per_product_sale.sort_values(by='order_id', ascending=False)\n",
    "\n",
    "# Distribute the remaining products based on median criterion\n",
    "i = 0\n",
    "while left_products_to_select > 0:\n",
    "    median_per_product_sale.at[i, 'number_of_products_to_select'] += 1\n",
    "    left_products_to_select -= 1\n",
    "    i = (i + 1) % total_combinations\n",
    "\n",
    "# Now the 'median_per_product_sale' DataFrame contains the desired 'number_of_products_to"
   ]
  },
  {
   "cell_type": "code",
   "execution_count": null,
   "id": "1537d64e-1dad-4259-b27f-973a995064a5",
   "metadata": {},
   "outputs": [],
   "source": [
    "median_per_product_sale.head()"
   ]
  },
  {
   "cell_type": "code",
   "execution_count": null,
   "id": "a6f7b123-178e-4d58-a69b-c93a386c0bea",
   "metadata": {},
   "outputs": [],
   "source": [
    "median_per_product_sale['number_of_products_to_select'].sum()"
   ]
  },
  {
   "cell_type": "code",
   "execution_count": null,
   "id": "0d7ab08c-a1a0-4773-853b-4e689a9c4248",
   "metadata": {},
   "outputs": [],
   "source": [
    "# Initialize an empty DataFrame to store selected products\n",
    "selected_products = pd.DataFrame(columns=['product_name', 'department', 'aisle'])"
   ]
  },
  {
   "cell_type": "code",
   "execution_count": null,
   "id": "52bb8ce0-e68c-4a05-a79d-311441aca866",
   "metadata": {},
   "outputs": [],
   "source": [
    "# Iterate through department-aisle combinations\n",
    "for _, row in median_per_product_sale.iterrows():\n",
    "    department = row['department']\n",
    "    aisle = row['aisle']\n",
    "    num_to_select = row['number_of_products_to_select']\n",
    "    \n",
    "    print(\"Working on department:\", department, \"aisle:\", aisle)\n",
    "    print(\"Number of products to select:\", num_to_select)\n",
    "    \n",
    "    # Filter products for the current department-aisle combination\n",
    "    products_subset = df[(df['department'] == department) & (df['aisle'] == aisle)]\n",
    "    \n",
    "    # Create a dataset with unique product names and their total sales\n",
    "    product_subset = products_subset.groupby('product_name')['order_id'].nunique().reset_index(name='total_sales')\n",
    "    \n",
    "    # Sort products_subset by total sales in descending order\n",
    "    product_subset = product_subset.sort_values(by='total_sales', ascending=False)\n",
    "    \n",
    "    # Initialize similarity threshold\n",
    "    similarity_threshold = 0.5\n",
    "    \n",
    "    # Initialize a variable to track the number of products selected for this combination\n",
    "    num_selected = 0\n",
    "    \n",
    "    # Initialize a list to store selected indices\n",
    "    selected_indices = []\n",
    "    \n",
    "    # Try different similarity thresholds until enough products are found\n",
    "    while num_selected < num_to_select and similarity_threshold >= 0:\n",
    "        print(\"Current similarity threshold:\", similarity_threshold)\n",
    "        \n",
    "        # Calculate text similarity between product names\n",
    "        similarity_matrix = calculate_similarity(product_subset['product_name'])\n",
    "        \n",
    "        # Find the indices of products that meet the similarity criteria\n",
    "        indices_to_add = [\n",
    "            i for i in range(similarity_matrix.shape[0])\n",
    "            if i not in selected_indices\n",
    "            and all(similarity_matrix[i, j] < similarity_threshold for j in selected_indices)\n",
    "            \n",
    "        ]\n",
    "        # Limit the selection to a maximum of num_to_select products\n",
    "        if len(indices_to_add) + num_selected > num_to_select:\n",
    "            indices_to_add = indices_to_add[:num_to_select - num_selected]\n",
    "        \n",
    "        # Update the selected indices and num_selected\n",
    "        selected_indices.extend(indices_to_add)\n",
    "        num_selected = len(selected_indices)\n",
    "        \n",
    "        # Decrease the similarity threshold\n",
    "        similarity_threshold -= 0.1\n",
    "        \n",
    "        print(\"Number of products selected so far:\", num_selected)\n",
    "    \n",
    "    if similarity_threshold < 0:\n",
    "        print(\"Not enough products found for department:\", department, \"aisle:\", aisle)\n",
    "    else:\n",
    "       # Get the selected product indices from product_subset\n",
    "        selected_product_indices = [selected_indices[i] for i in range(len(selected_indices)) if i < num_to_select]\n",
    "\n",
    "        # Create a DataFrame with the selected product indices\n",
    "        selected_products_subset = products_subset.iloc[selected_product_indices]\n",
    "\n",
    "        # Append the selected products to the final DataFrame\n",
    "        selected_products = pd.concat([selected_products, selected_products_subset])\n",
    "\n",
    "print(\"Number of total products selected:\", len(selected_products))"
   ]
  },
  {
   "cell_type": "code",
   "execution_count": null,
   "id": "034bef84-9548-42d2-a2d9-e4c11c9c111b",
   "metadata": {},
   "outputs": [],
   "source": [
    "columns_to_drop = ['department', 'aisle','order_id']\n",
    "selected_products = selected_products.drop(columns=columns_to_drop)"
   ]
  },
  {
   "cell_type": "code",
   "execution_count": null,
   "id": "a1edc7f1-4ba8-4e30-89cd-91a1a9644a8b",
   "metadata": {},
   "outputs": [],
   "source": [
    "selected_data = selected_products"
   ]
  },
  {
   "cell_type": "code",
   "execution_count": null,
   "id": "4eeb2433-ada1-4814-bc18-ebf75e067373",
   "metadata": {},
   "outputs": [],
   "source": [
    "test_df = pd.read_csv('test_other_df.csv')"
   ]
  },
  {
   "cell_type": "markdown",
   "id": "749b2993-37fb-494d-a6a5-b4425a2b1800",
   "metadata": {},
   "source": [
    "#### Metric Calculation without accounting for substitutes for METHOD 4"
   ]
  },
  {
   "cell_type": "code",
   "execution_count": null,
   "id": "18384a01-07aa-4260-85a8-4795833bfd32",
   "metadata": {},
   "outputs": [],
   "source": [
    "# calculate total unique orders in the test data\n",
    "tot_order = test_df['order_id'].nunique()\n",
    "print(f\"Total number of orders: {tot_order}\")"
   ]
  },
  {
   "cell_type": "code",
   "execution_count": null,
   "id": "c77a9d4b-03c9-4bf1-a1dd-1b6ae839ce65",
   "metadata": {},
   "outputs": [],
   "source": [
    "# calculate the average number of items in each order\n",
    "avg_item = len(test_df) / tot_order\n",
    "print(f\"Average number of items in each order: {avg_item}\")"
   ]
  },
  {
   "cell_type": "code",
   "execution_count": null,
   "id": "22bb9d98-734d-496d-b899-e7ebeff600af",
   "metadata": {},
   "outputs": [],
   "source": [
    "# join the test data with my pick on 'product_id'\n",
    "test_selected_data = test_df.merge(selected_data, on='product_id', how='left')\n",
    "\n",
    "# group by 'order_id' and count the non-null values of 'product_name_y' column\n",
    "metrics_tmp = test_selected_data[['order_id', 'product_name_y']].groupby('order_id').count().reset_index().rename(columns={'product_name_y': \"num_prod_matching\"})\n",
    "metrics_tmp.head()"
   ]
  },
  {
   "cell_type": "code",
   "execution_count": null,
   "id": "38a5daa7-8bbd-46e9-a0d4-473834ffee05",
   "metadata": {},
   "outputs": [],
   "source": [
    "# calculate metric 1\n",
    "# count orders with at least a match\n",
    "metric_1 = len(metrics_tmp[metrics_tmp['num_prod_matching']>0])\n",
    "print(f\"Out of {tot_order} orders, {metric_1} of them utilize the in-aisle items. That's about {metric_1/tot_order*100:.2f}%.\")"
   ]
  },
  {
   "cell_type": "code",
   "execution_count": null,
   "id": "4bce5894-b277-4a3d-9c54-6ab0c3b49b57",
   "metadata": {},
   "outputs": [],
   "source": [
    "# calculate metric 2\n",
    "metric_2 = metrics_tmp['num_prod_matching'].sum() / len(metrics_tmp)\n",
    "print(f\"On average there are {avg_item:.2f} items in each order, and {metric_2:.2f} of them utilize in-aisle items. That's about {metric_2/avg_item*100:.2f}%\")"
   ]
  },
  {
   "cell_type": "markdown",
   "id": "baf3c65c-8fd5-417e-a8e9-a07694efe46d",
   "metadata": {},
   "source": [
    "#### Metric Calculation accounting for substitutes for METHOD 4"
   ]
  },
  {
   "cell_type": "code",
   "execution_count": null,
   "id": "5bc5e81b-aa16-4581-8471-08e1a8fe8e70",
   "metadata": {},
   "outputs": [],
   "source": [
    "selected_products=selected_data['product_name'].unique()\n",
    "# Get unique product names from the entire dataset\n",
    "unique_product_names = test_df['product_name'].unique()\n",
    "\n",
    "# Vectorize the unique product names and selected products\n",
    "tfidf_vectorizer = TfidfVectorizer()\n",
    "product_name_matrix = tfidf_vectorizer.fit_transform(unique_product_names)\n",
    "selected_products_matrix = tfidf_vectorizer.transform(selected_products)\n",
    "\n",
    "# Calculate the cosine similarity matrix between unique product names and selected products\n",
    "similarity_matrix = cosine_similarity(product_name_matrix, selected_products_matrix)\n",
    "\n",
    "# Create a dictionary to store num_prod_match for each order_id\n",
    "order_id_dict = {}\n",
    "similarity_threshold = 0.5\n",
    "order_ids_checked = 0\n",
    "\n",
    "# Iterate through unique order IDs in test_df\n",
    "unique_order_ids = test_df['order_id'].unique()\n",
    "for order_id in unique_order_ids:\n",
    "    order_products = test_df[test_df['order_id'] == order_id]['product_name']\n",
    "    num_prod_match = 0\n",
    "    \n",
    "    for product_name in order_products:\n",
    "        product_index = np.where(unique_product_names == product_name)[0][0]  # Find the index of the current product\n",
    "        similarities = similarity_matrix[product_index]  # Get similarities for the current product\n",
    "        \n",
    "        # Check if any similarity is above the threshold\n",
    "        if any(similarities >= similarity_threshold):\n",
    "            num_prod_match += 1\n",
    "    \n",
    "    order_id_dict[order_id] = num_prod_match\n",
    "    order_ids_checked += 1\n",
    "    print(f\"Progress: {((order_ids_checked) / len(unique_order_ids)) * 100}%\")"
   ]
  },
  {
   "cell_type": "code",
   "execution_count": null,
   "id": "5fd81f74-08fb-44d6-859e-9846aac22366",
   "metadata": {},
   "outputs": [],
   "source": [
    "result_df = pd.DataFrame(order_id_dict.items(), columns=['order_id', 'num_prod_match'])\n",
    "result_df.head()"
   ]
  },
  {
   "cell_type": "code",
   "execution_count": null,
   "id": "c136a0ee-e4d4-4d6e-bcfc-3c63af1dfd0e",
   "metadata": {},
   "outputs": [],
   "source": [
    "# calculate metric 1\n",
    "# count orders with at least a match\n",
    "metric_sub_1 = len(result_df[result_df['num_prod_match']>0])\n",
    "print(f\"Out of {tot_order} orders, {metric_sub_1} of them utilize the in-aisle items. That's about {metric_sub_1/tot_order*100:.2f}%.\")"
   ]
  },
  {
   "cell_type": "code",
   "execution_count": null,
   "id": "9547a28b-22c7-4b83-9aa5-d6b98713c316",
   "metadata": {},
   "outputs": [],
   "source": [
    "# calcualte metric 2\n",
    "metric_sub_2 = result_df['num_prod_match'].sum() / len(result_df)\n",
    "print(f\"On average there are {avg_item:.2f} items in each order, and {metric_sub_2:.2f} of them utilize in-aisle items. That's about {metric_sub_2/avg_item*100:.2f}%\")"
   ]
  },
  {
   "cell_type": "code",
   "execution_count": null,
   "id": "ff6fc8cf-a4f2-43ca-821c-137260f360a7",
   "metadata": {},
   "outputs": [],
   "source": [
    "file_path = 'results_other.txt'\n",
    "\n",
    "with open(file_path, 'a') as file:\n",
    "    file.write(f\"METHOD 4: Selection based on Pure total sales of each product\\n\")\n",
    "    file.write(f\"Metric Calculation without accounting for substitutes for METHOD 4\\n\")\n",
    "    file.write(f\"Out of {tot_order} orders, {metric_1} of them utilize the in-aisle items. That's about {metric_1/tot_order*100:.2f}%.\\n\")\n",
    "    file.write(f\"On average there are {avg_item:.2f} items in each order, and {metric_2:.2f} of them utilize in-aisle items. That's about {metric_2/avg_item*100:.2f}%\\n\")\n",
    "    file.write(f\"Metric Calculation accounting for substitutes for METHOD 4\\n\")\n",
    "    file.write(f\"Out of {tot_order} orders, {metric_sub_1} of them utilize the in-aisle items. That's about {metric_sub_1/tot_order*100:.2f}%.\\n\")\n",
    "    file.write(f\"On average there are {avg_item:.2f} items in each order, and {metric_sub_2:.2f} of them utilize in-aisle items. That's about {metric_sub_2/avg_item*100:.2f}%\\n\")\n",
    "    file.write(\"\\n\")"
   ]
  },
  {
   "cell_type": "markdown",
   "id": "e7164984-1f9c-4720-a8ab-95b87da3e431",
   "metadata": {
    "jp-MarkdownHeadingCollapsed": true
   },
   "source": [
    "### METHOD 5: One of each aisle max and remaining using method 1 (top product sales)"
   ]
  },
  {
   "cell_type": "code",
   "execution_count": null,
   "id": "ef872654-c176-4e01-abc9-9a0fd2412602",
   "metadata": {},
   "outputs": [],
   "source": [
    "# Calculate total sales for each unique aisle\n",
    "aisle_sales = df.groupby('aisle')['order_id'].sum().reset_index()\n",
    "\n",
    "# Find the product with maximum sales in each aisle\n",
    "max_sale_products = df.groupby(['aisle', 'product_name'])['order_id'].sum().reset_index()\n",
    "max_sale_products = max_sale_products.loc[max_sale_products.groupby('aisle')['order_id'].idxmax()]\n",
    "\n",
    "# Create the 'selected_products' list\n",
    "selected_products = max_sale_products['product_name'].tolist()\n",
    "\n",
    "# Remove data of all the chosen products from the original DataFrame\n",
    "df = df[~df['product_name'].isin(selected_products)]\n",
    "\n",
    "# Find 100 products with maximum sale from the changed DataFrame\n",
    "top_100_products = df.groupby('product_name')['order_id'].sum().reset_index()\n",
    "top_100_products = top_100_products.sort_values(by='order_id', ascending=False).head(9800-len(selected_products))\n",
    "\n",
    "# Append the last top 100 products with the selected products\n",
    "final_product_list = selected_products + top_100_products['product_name'].tolist()\n",
    "\n",
    "# Filter the original DataFrame based on the final_product_list\n",
    "selected_products = df[df['product_name'].isin(final_product_list)][['product_name', 'product_id', 'aisle_id', 'department_id']]\n",
    "\n",
    "# Reset the index of the selected_products DataFrame\n",
    "selected_products.reset_index(drop=True, inplace=True)\n",
    "\n"
   ]
  },
  {
   "cell_type": "markdown",
   "id": "2c054300-2a50-4e08-89b0-9a794795334d",
   "metadata": {},
   "source": [
    "#### Metric Calculation without accounting for substitutes for METHOD 5"
   ]
  },
  {
   "cell_type": "code",
   "execution_count": null,
   "id": "9d3fbe6e-5694-4d5a-b075-f65957c0b490",
   "metadata": {},
   "outputs": [],
   "source": [
    "# calculate total unique orders in the test data\n",
    "tot_order = test_df['order_id'].nunique()\n",
    "print(f\"Total number of orders: {tot_order}\")"
   ]
  },
  {
   "cell_type": "code",
   "execution_count": null,
   "id": "6e5cbe68-a476-4ebe-bc03-b09cbd407877",
   "metadata": {},
   "outputs": [],
   "source": [
    "# calculate the average number of items in each order\n",
    "avg_item = len(test_df) / tot_order\n",
    "print(f\"Average number of items in each order: {avg_item}\")"
   ]
  },
  {
   "cell_type": "code",
   "execution_count": null,
   "id": "39026cca-e33e-4529-bc98-06880c1d9a5c",
   "metadata": {},
   "outputs": [],
   "source": [
    "# join the test data with my pick on 'product_id'\n",
    "test_selected_data = test_df.merge(selected_data, on='product_id', how='left')\n",
    "\n",
    "# group by 'order_id' and count the non-null values of 'product_name_y' column\n",
    "metrics_tmp = test_selected_data[['order_id', 'product_name_y']].groupby('order_id').count().reset_index().rename(columns={'product_name_y': \"num_prod_matching\"})\n",
    "metrics_tmp.head()"
   ]
  },
  {
   "cell_type": "code",
   "execution_count": null,
   "id": "43c159fd-2699-4044-9d7b-8511adc19966",
   "metadata": {},
   "outputs": [],
   "source": [
    "# calculate metric 1\n",
    "# count orders with at least a match\n",
    "metric_1 = len(metrics_tmp[metrics_tmp['num_prod_matching']>0])\n",
    "print(f\"Out of {tot_order} orders, {metric_1} of them utilize the in-aisle items. That's about {metric_1/tot_order*100:.2f}%.\")"
   ]
  },
  {
   "cell_type": "code",
   "execution_count": null,
   "id": "148786ac-d498-4a22-ab7e-787f61edff06",
   "metadata": {},
   "outputs": [],
   "source": [
    "# calculate metric 2\n",
    "metric_2 = metrics_tmp['num_prod_matching'].sum() / len(metrics_tmp)\n",
    "print(f\"On average there are {avg_item:.2f} items in each order, and {metric_2:.2f} of them utilize in-aisle items. That's about {metric_2/avg_item*100:.2f}%\")"
   ]
  },
  {
   "cell_type": "markdown",
   "id": "48e6aac5-df99-4e0c-b236-7a20dc2eb246",
   "metadata": {},
   "source": [
    "#### Metric Calculation accounting for substitutes for METHOD 5"
   ]
  },
  {
   "cell_type": "code",
   "execution_count": null,
   "id": "52a62aac-f1fd-4456-a0fd-a742a5e9143e",
   "metadata": {},
   "outputs": [],
   "source": [
    "selected_products=selected_data['product_name'].unique()\n",
    "# Get unique product names from the entire dataset\n",
    "unique_product_names = test_df['product_name'].unique()\n",
    "\n",
    "# Vectorize the unique product names and selected products\n",
    "tfidf_vectorizer = TfidfVectorizer()\n",
    "product_name_matrix = tfidf_vectorizer.fit_transform(unique_product_names)\n",
    "selected_products_matrix = tfidf_vectorizer.transform(selected_products)\n",
    "\n",
    "# Calculate the cosine similarity matrix between unique product names and selected products\n",
    "similarity_matrix = cosine_similarity(product_name_matrix, selected_products_matrix)\n",
    "\n",
    "# Create a dictionary to store num_prod_match for each order_id\n",
    "order_id_dict = {}\n",
    "similarity_threshold = 0.5\n",
    "order_ids_checked = 0\n",
    "\n",
    "# Iterate through unique order IDs in test_df\n",
    "unique_order_ids = test_df['order_id'].unique()\n",
    "for order_id in unique_order_ids:\n",
    "    order_products = test_df[test_df['order_id'] == order_id]['product_name']\n",
    "    num_prod_match = 0\n",
    "    \n",
    "    for product_name in order_products:\n",
    "        product_index = np.where(unique_product_names == product_name)[0][0]  # Find the index of the current product\n",
    "        similarities = similarity_matrix[product_index]  # Get similarities for the current product\n",
    "        \n",
    "        # Check if any similarity is above the threshold\n",
    "        if any(similarities >= similarity_threshold):\n",
    "            num_prod_match += 1\n",
    "    \n",
    "    order_id_dict[order_id] = num_prod_match\n",
    "    order_ids_checked += 1\n",
    "    print(f\"Progress: {((order_ids_checked) / len(unique_order_ids)) * 100}%\")"
   ]
  },
  {
   "cell_type": "code",
   "execution_count": null,
   "id": "3e90ab44-05be-49c9-88b5-dfcfe4db584d",
   "metadata": {},
   "outputs": [],
   "source": [
    "result_df = pd.DataFrame(order_id_dict.items(), columns=['order_id', 'num_prod_match'])\n",
    "result_df.head()"
   ]
  },
  {
   "cell_type": "code",
   "execution_count": null,
   "id": "a11f4abe-fddd-48fd-a7d1-055b8943287d",
   "metadata": {},
   "outputs": [],
   "source": [
    "# calculate metric 1\n",
    "# count orders with at least a match\n",
    "metric_sub_1 = len(result_df[result_df['num_prod_match']>0])\n",
    "print(f\"Out of {tot_order} orders, {metric_sub_1} of them utilize the in-aisle items. That's about {metric_sub_1/tot_order*100:.2f}%.\")"
   ]
  },
  {
   "cell_type": "code",
   "execution_count": null,
   "id": "a8c9aa86-9f40-4b34-8a84-54a5d5d95687",
   "metadata": {},
   "outputs": [],
   "source": [
    "# calcualte metric 2\n",
    "metric_sub_2 = result_df['num_prod_match'].sum() / len(result_df)\n",
    "print(f\"On average there are {avg_item:.2f} items in each order, and {metric_sub_2:.2f} of them utilize in-aisle items. That's about {metric_sub_2/avg_item*100:.2f}%\")"
   ]
  },
  {
   "cell_type": "code",
   "execution_count": null,
   "id": "44d17049-b9e1-48a4-85f1-e00bbeae5599",
   "metadata": {},
   "outputs": [],
   "source": [
    "file_path = 'results_other.txt'\n",
    "\n",
    "with open(file_path, 'a') as file:\n",
    "    file.write(f\"METHOD 5: One of each aisle max and remaining using method 1 (top product sales)\\n\")\n",
    "    file.write(f\"Metric Calculation without accounting for substitutes for METHOD 5\\n\")\n",
    "    file.write(f\"Out of {tot_order} orders, {metric_1} of them utilize the in-aisle items. That's about {metric_1/tot_order*100:.2f}%.\\n\")\n",
    "    file.write(f\"On average there are {avg_item:.2f} items in each order, and {metric_2:.2f} of them utilize in-aisle items. That's about {metric_2/avg_item*100:.2f}%\\n\")\n",
    "    file.write(f\"Metric Calculation accounting for substitutes for METHOD 5\\n\")\n",
    "    file.write(f\"Out of {tot_order} orders, {metric_sub_1} of them utilize the in-aisle items. That's about {metric_sub_1/tot_order*100:.2f}%.\\n\")\n",
    "    file.write(f\"On average there are {avg_item:.2f} items in each order, and {metric_sub_2:.2f} of them utilize in-aisle items. That's about {metric_sub_2/avg_item*100:.2f}%\\n\")\n",
    "    file.write(\"\\n\")"
   ]
  },
  {
   "cell_type": "markdown",
   "id": "beea6dd2-1c69-45ad-8e07-014e57fa5bd9",
   "metadata": {
    "jp-MarkdownHeadingCollapsed": true
   },
   "source": [
    "### METHOD 6: First take one max from each aisle and then method 2 for remaining (weightage based on total sales per aisle)"
   ]
  },
  {
   "cell_type": "code",
   "execution_count": null,
   "id": "af6bedb3-e299-43dc-acb2-965a9b8ed8b5",
   "metadata": {},
   "outputs": [],
   "source": [
    "# Calculate total sales for each unique aisle\n",
    "aisle_sales = df.groupby('aisle')['order_id'].sum().reset_index()\n",
    "\n",
    "# Find the product with maximum sales in each aisle\n",
    "max_sale_products = df.groupby(['aisle', 'product_name'])['order_id'].sum().reset_index()\n",
    "max_sale_products = max_sale_products.loc[max_sale_products.groupby('aisle')['order_id'].idxmax()]\n",
    "\n",
    "# Create the 'selected_products' list\n",
    "selected_products1 = max_sale_products['product_name'].tolist()\n",
    "\n",
    "# Remove data of all the chosen products from the original DataFrame\n",
    "df = df[~df['product_name'].isin(selected_products1)]\n",
    "\n",
    "\n",
    "# Group by department and aisle to calculate total sales (order count)\n",
    "department_aisle_sales = df.groupby(['department', 'aisle'])['order_id'].count().reset_index()\n",
    "\n",
    "# Calculate the total sales for each department-aisle combination\n",
    "department_aisle_sales['total_sales'] = department_aisle_sales.groupby(['department', 'aisle'])['order_id'].transform('sum')\n",
    "\n",
    "# Calculate the distribution of number_of_products_to_select out of (9800 - len(selected_products))\n",
    "department_aisle_sales['number_of_products_to_select'] = (\n",
    "    (department_aisle_sales['total_sales'] / department_aisle_sales['total_sales'].sum()) * (9800 - len(selected_products))\n",
    ").round().astype(int)\n",
    "\n",
    "while department_aisle_sales['number_of_products_to_select'].sum() > (9800 - len(selected_products)):\n",
    "    # Sort the data in decreasing order of number_of_products_to_select\n",
    "    department_aisle_sales = department_aisle_sales.sort_values(by='number_of_products_to_select', ascending=False)\n",
    "\n",
    "    # Calculate the current sum of number_of_products_to_select\n",
    "    current_sum = department_aisle_sales['number_of_products_to_select'].sum()\n",
    "\n",
    "    # Calculate the adjustment needed to make the sum exactly 100\n",
    "    adjustment = (9800 - len(selected_products)) - current_sum\n",
    "\n",
    "    # Remove the extra values by decrementing them from the top rows\n",
    "    for index, row in department_aisle_sales.iterrows():\n",
    "        if adjustment <= 0:\n",
    "            break\n",
    "\n",
    "        if row['number_of_products_to_select'] > 0:\n",
    "            department_aisle_sales.at[index, 'number_of_products_to_select'] -= 1\n",
    "            adjustment -= 1\n",
    "\n",
    "    # Ensure that all values are non-negative integers\n",
    "    department_aisle_sales['number_of_products_to_select'] = department_aisle_sales['number_of_products_to_select'].clip(lower=0)\n",
    "\n"
   ]
  },
  {
   "cell_type": "code",
   "execution_count": null,
   "id": "8cb52cf5-db7a-4fda-a382-46150b7bc435",
   "metadata": {},
   "outputs": [],
   "source": [
    "# Initialize an empty DataFrame to store selected products\n",
    "selected_products = pd.DataFrame(columns=['product_name', 'product_id', 'aisle_id', 'department_id'])"
   ]
  },
  {
   "cell_type": "code",
   "execution_count": null,
   "id": "76d0468a-9b0f-4b85-b40c-f5ee8bf98c57",
   "metadata": {},
   "outputs": [],
   "source": [
    "# Iterate through department-aisle combinations\n",
    "for _, row in department_aisle_sales.iterrows():\n",
    "    department = row['department']\n",
    "    aisle = row['aisle']\n",
    "    num_to_select = row['number_of_products_to_select']\n",
    "    \n",
    "    print(\"Working on department:\", department, \"aisle:\", aisle)\n",
    "    print(\"Number of products to select:\", num_to_select)\n",
    "    \n",
    "    # Filter products for the current department-aisle combination\n",
    "    products_subset = df[(df['department'] == department) & (df['aisle'] == aisle)]\n",
    "    \n",
    "    # Create a dataset with unique product names and their total sales\n",
    "    product_subset = products_subset.groupby('product_name')['order_id'].nunique().reset_index(name='total_sales')\n",
    "    \n",
    "    # Sort products_subset by total sales in descending order\n",
    "    product_subset = product_subset.sort_values(by='total_sales', ascending=False)\n",
    "    \n",
    "    # Initialize similarity threshold\n",
    "    similarity_threshold = 0.5\n",
    "    \n",
    "    # Initialize a variable to track the number of products selected for this combination\n",
    "    num_selected = 0\n",
    "    \n",
    "    # Initialize a list to store selected indices\n",
    "    selected_indices = []\n",
    "    \n",
    "    # Try different similarity thresholds until enough products are found\n",
    "    while num_selected < num_to_select and similarity_threshold >= 0:\n",
    "        print(\"Current similarity threshold:\", similarity_threshold)\n",
    "        \n",
    "        # Calculate text similarity between product names\n",
    "        similarity_matrix = calculate_similarity(product_subset['product_name'])\n",
    "        \n",
    "        # Find the indices of products that meet the similarity criteria\n",
    "        indices_to_add = [\n",
    "            i for i in range(similarity_matrix.shape[0])\n",
    "            if i not in selected_indices\n",
    "            and all(similarity_matrix[i, j] < similarity_threshold for j in selected_indices)\n",
    "            \n",
    "        ]\n",
    "        # Limit the selection to a maximum of num_to_select products\n",
    "        if len(indices_to_add) + num_selected > num_to_select:\n",
    "            indices_to_add = indices_to_add[:num_to_select - num_selected]\n",
    "        \n",
    "        # Update the selected indices and num_selected\n",
    "        selected_indices.extend(indices_to_add)\n",
    "        num_selected = len(selected_indices)\n",
    "        \n",
    "        # Decrease the similarity threshold\n",
    "        similarity_threshold -= 0.1\n",
    "        \n",
    "        print(\"Number of products selected so far:\", num_selected)\n",
    "    \n",
    "    if similarity_threshold < 0:\n",
    "        print(\"Not enough products found for department:\", department, \"aisle:\", aisle)\n",
    "    else:\n",
    "       # Get the selected product indices from product_subset\n",
    "        selected_product_indices = [selected_indices[i] for i in range(len(selected_indices)) if i < num_to_select]\n",
    "\n",
    "        # Create a DataFrame with the selected product indices\n",
    "        selected_products_subset = products_subset.iloc[selected_product_indices]\n",
    "\n",
    "        # Append the selected products to the final DataFrame\n",
    "        selected_products = pd.concat([selected_products, selected_products_subset])"
   ]
  },
  {
   "cell_type": "code",
   "execution_count": null,
   "id": "97f190d4-743e-40a4-ace4-ea77c22c4f3d",
   "metadata": {},
   "outputs": [],
   "source": [
    "# Append the last top 100 products with the selected products\n",
    "final_product_list = selected_products1 + selected_products['product_name'].tolist()"
   ]
  },
  {
   "cell_type": "code",
   "execution_count": null,
   "id": "f14d6621-96b6-44c9-aff5-f4738f2e235a",
   "metadata": {},
   "outputs": [],
   "source": [
    "# Filter the original DataFrame based on the final_product_list\n",
    "selected_products = df[df['product_name'].isin(final_product_list)][['product_name', 'product_id', 'aisle_id', 'department_id']]\n",
    "\n",
    "# Reset the index of the selected_products DataFrame\n",
    "selected_products.reset_index(drop=True, inplace=True)"
   ]
  },
  {
   "cell_type": "code",
   "execution_count": null,
   "id": "c04ae718-71a5-407c-bd97-5d72df2b4895",
   "metadata": {},
   "outputs": [],
   "source": [
    "selected_data = selected_products"
   ]
  },
  {
   "cell_type": "code",
   "execution_count": null,
   "id": "2a5f79b2-c2ee-4211-ac0a-bb42ad299d18",
   "metadata": {},
   "outputs": [],
   "source": [
    "test_df = pd.read_csv('test_other_df.csv')"
   ]
  },
  {
   "cell_type": "markdown",
   "id": "75c5e7e6-ca77-49a3-8ba1-ce90814a7c0d",
   "metadata": {},
   "source": [
    "#### Metric Calculation without accounting for substitutes for METHOD 6"
   ]
  },
  {
   "cell_type": "code",
   "execution_count": null,
   "id": "ee765492-ff04-4b3f-86a0-03e6740d9b34",
   "metadata": {},
   "outputs": [],
   "source": [
    "# calculate total unique orders in the test data\n",
    "tot_order = test_df['order_id'].nunique()\n",
    "print(f\"Total number of orders: {tot_order}\")"
   ]
  },
  {
   "cell_type": "code",
   "execution_count": null,
   "id": "fa7ae0ac-98af-4507-89ab-93b87556fc71",
   "metadata": {},
   "outputs": [],
   "source": [
    "# calculate the average number of items in each order\n",
    "avg_item = len(test_df) / tot_order\n",
    "print(f\"Average number of items in each order: {avg_item}\")"
   ]
  },
  {
   "cell_type": "code",
   "execution_count": null,
   "id": "b8f4bf7b-d3ec-4592-b4a2-3bb6f6c7c154",
   "metadata": {},
   "outputs": [],
   "source": [
    "# join the test data with my pick on 'product_id'\n",
    "test_selected_data = test_df.merge(selected_data, on='product_id', how='left')\n",
    "\n",
    "# group by 'order_id' and count the non-null values of 'product_name_y' column\n",
    "metrics_tmp = test_selected_data[['order_id', 'product_name_y']].groupby('order_id').count().reset_index().rename(columns={'product_name_y': \"num_prod_matching\"})\n",
    "metrics_tmp.head()"
   ]
  },
  {
   "cell_type": "code",
   "execution_count": null,
   "id": "0c6dbc6c-3e9c-4bac-bc39-086e1b104f61",
   "metadata": {},
   "outputs": [],
   "source": [
    "# calculate metric 1\n",
    "# count orders with at least a match\n",
    "metric_1 = len(metrics_tmp[metrics_tmp['num_prod_matching']>0])\n",
    "print(f\"Out of {tot_order} orders, {metric_1} of them utilize the in-aisle items. That's about {metric_1/tot_order*100:.2f}%.\")"
   ]
  },
  {
   "cell_type": "code",
   "execution_count": null,
   "id": "94cb9042-d91f-410d-b382-efed04e9bd94",
   "metadata": {},
   "outputs": [],
   "source": [
    "# calculate metric 2\n",
    "metric_2 = metrics_tmp['num_prod_matching'].sum() / len(metrics_tmp)\n",
    "print(f\"On average there are {avg_item:.2f} items in each order, and {metric_2:.2f} of them utilize in-aisle items. That's about {metric_2/avg_item*100:.2f}%\")"
   ]
  },
  {
   "cell_type": "markdown",
   "id": "ec9c2f96-ffec-486b-8fab-9849df23109c",
   "metadata": {},
   "source": [
    "#### Metric Calculation accounting for substitutes for METHOD 6"
   ]
  },
  {
   "cell_type": "code",
   "execution_count": null,
   "id": "700ea169-9c29-4581-980f-c642993de7ee",
   "metadata": {},
   "outputs": [],
   "source": [
    "selected_products=selected_data['product_name'].unique()\n",
    "# Get unique product names from the entire dataset\n",
    "unique_product_names = test_df['product_name'].unique()\n",
    "\n",
    "# Vectorize the unique product names and selected products\n",
    "tfidf_vectorizer = TfidfVectorizer()\n",
    "product_name_matrix = tfidf_vectorizer.fit_transform(unique_product_names)\n",
    "selected_products_matrix = tfidf_vectorizer.transform(selected_products)\n",
    "\n",
    "# Calculate the cosine similarity matrix between unique product names and selected products\n",
    "similarity_matrix = cosine_similarity(product_name_matrix, selected_products_matrix)\n",
    "\n",
    "# Create a dictionary to store num_prod_match for each order_id\n",
    "order_id_dict = {}\n",
    "similarity_threshold = 0.5\n",
    "order_ids_checked = 0\n",
    "\n",
    "# Iterate through unique order IDs in test_df\n",
    "unique_order_ids = test_df['order_id'].unique()\n",
    "for order_id in unique_order_ids:\n",
    "    order_products = test_df[test_df['order_id'] == order_id]['product_name']\n",
    "    num_prod_match = 0\n",
    "    \n",
    "    for product_name in order_products:\n",
    "        product_index = np.where(unique_product_names == product_name)[0][0]  # Find the index of the current product\n",
    "        similarities = similarity_matrix[product_index]  # Get similarities for the current product\n",
    "        \n",
    "        # Check if any similarity is above the threshold\n",
    "        if any(similarities >= similarity_threshold):\n",
    "            num_prod_match += 1\n",
    "    \n",
    "    order_id_dict[order_id] = num_prod_match\n",
    "    order_ids_checked += 1\n",
    "    print(f\"Progress: {((order_ids_checked) / len(unique_order_ids)) * 100}%\")"
   ]
  },
  {
   "cell_type": "code",
   "execution_count": null,
   "id": "188caff2-e864-4c90-96b5-a1dee9b7b448",
   "metadata": {},
   "outputs": [],
   "source": [
    "result_df = pd.DataFrame(order_id_dict.items(), columns=['order_id', 'num_prod_match'])\n",
    "result_df.head()"
   ]
  },
  {
   "cell_type": "code",
   "execution_count": null,
   "id": "db662bb6-5a35-4a04-808d-ec31a5cb295c",
   "metadata": {},
   "outputs": [],
   "source": [
    "# calculate metric 1\n",
    "# count orders with at least a match\n",
    "metric_sub_1 = len(result_df[result_df['num_prod_match']>0])\n",
    "print(f\"Out of {tot_order} orders, {metric_sub_1} of them utilize the in-aisle items. That's about {metric_sub_1/tot_order*100:.2f}%.\")"
   ]
  },
  {
   "cell_type": "code",
   "execution_count": null,
   "id": "0afe29e0-00b7-440e-961f-513b3e472d89",
   "metadata": {},
   "outputs": [],
   "source": [
    "# calcualte metric 2\n",
    "metric_sub_2 = result_df['num_prod_match'].sum() / len(result_df)\n",
    "print(f\"On average there are {avg_item:.2f} items in each order, and {metric_sub_2:.2f} of them utilize in-aisle items. That's about {metric_sub_2/avg_item*100:.2f}%\")"
   ]
  },
  {
   "cell_type": "code",
   "execution_count": null,
   "id": "e0b9a0e9-f068-4c02-bf3b-df865c0b14ab",
   "metadata": {},
   "outputs": [],
   "source": [
    "file_path = 'results_other.txt'\n",
    "\n",
    "with open(file_path, 'a') as file:\n",
    "    file.write(f\"METHOD 6: First take one max from each aisle and then method 2 for remaining (weightage based on total sales per aisle)\\n\")\n",
    "    file.write(f\"Metric Calculation without accounting for substitutes for METHOD 6\\n\")\n",
    "    file.write(f\"Out of {tot_order} orders, {metric_1} of them utilize the in-aisle items. That's about {metric_1/tot_order*100:.2f}%.\\n\")\n",
    "    file.write(f\"On average there are {avg_item:.2f} items in each order, and {metric_2:.2f} of them utilize in-aisle items. That's about {metric_2/avg_item*100:.2f}%\\n\")\n",
    "    file.write(f\"Metric Calculation accounting for substitutes for METHOD 6\\n\")\n",
    "    file.write(f\"Out of {tot_order} orders, {metric_sub_1} of them utilize the in-aisle items. That's about {metric_sub_1/tot_order*100:.2f}%.\\n\")\n",
    "    file.write(f\"On average there are {avg_item:.2f} items in each order, and {metric_sub_2:.2f} of them utilize in-aisle items. That's about {metric_sub_2/avg_item*100:.2f}%\\n\")\n",
    "    file.write(\"\\n\")"
   ]
  }
 ],
 "metadata": {
  "kernelspec": {
   "display_name": "Python 3 (ipykernel)",
   "language": "python",
   "name": "python3"
  },
  "language_info": {
   "codemirror_mode": {
    "name": "ipython",
    "version": 3
   },
   "file_extension": ".py",
   "mimetype": "text/x-python",
   "name": "python",
   "nbconvert_exporter": "python",
   "pygments_lexer": "ipython3",
   "version": "3.11.5"
  }
 },
 "nbformat": 4,
 "nbformat_minor": 5
}
